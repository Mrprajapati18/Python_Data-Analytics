{
 "cells": [
  {
   "cell_type": "markdown",
   "id": "e1a52272-7a38-4ce5-851e-3d079418a17a",
   "metadata": {},
   "source": [
    "DataFrame"
   ]
  },
  {
   "cell_type": "code",
   "execution_count": 1,
   "id": "53a0b05f-66f2-45a6-b58d-9215628cd6c7",
   "metadata": {},
   "outputs": [],
   "source": [
    "import pandas as pd"
   ]
  },
  {
   "cell_type": "code",
   "execution_count": 2,
   "id": "0dd133ef-8f06-4640-9065-0b0e2a485059",
   "metadata": {},
   "outputs": [
    {
     "name": "stdout",
     "output_type": "stream",
     "text": [
      "   0\n",
      "0  1\n",
      "1  2\n",
      "2  3\n",
      "3  4\n",
      "4  5\n",
      "5  6\n",
      "6  7\n",
      "<class 'pandas.core.frame.DataFrame'>\n"
     ]
    }
   ],
   "source": [
    "List = [1,2,3,4,5,6,7]\n",
    "var = pd.DataFrame(List)\n",
    "print(var)\n",
    "print(type(var))"
   ]
  },
  {
   "cell_type": "markdown",
   "id": "618e6318-5dac-4076-b475-212f90c01fe0",
   "metadata": {},
   "source": [
    "Dictionary"
   ]
  },
  {
   "cell_type": "code",
   "execution_count": 3,
   "id": "4d0d5e86-b2a2-4d3c-9642-7a5bdec8fad4",
   "metadata": {},
   "outputs": [
    {
     "name": "stdout",
     "output_type": "stream",
     "text": [
      "   Number     Name\n",
      "0       1  Durgesh\n",
      "1       2   Satish\n",
      "2       4     Aman\n",
      "3       5   Aditya\n",
      "4       6     Anil\n"
     ]
    }
   ],
   "source": [
    "Dic = {\"Number\":[1,2,4,5,6],\n",
    "       \"Name\":[\"Durgesh\",\"Satish\",\"Aman\",\"Aditya\",\"Anil\"]}\n",
    "var_1 = pd.DataFrame(Dic)\n",
    "print(var_1)"
   ]
  },
  {
   "cell_type": "markdown",
   "id": "7cbb4376-e5fb-463d-a75d-bdc505c49d91",
   "metadata": {},
   "source": [
    "Create DataFrame"
   ]
  },
  {
   "cell_type": "code",
   "execution_count": 4,
   "id": "32e919a2-0410-4b50-ae09-c2e769514c07",
   "metadata": {},
   "outputs": [
    {
     "name": "stdout",
     "output_type": "stream",
     "text": [
      "    0   1   2   3   4   5\n",
      "0   1   2   3   4   5   6\n",
      "1  11  12  13  14  15  16\n",
      "2  16  17  18  19  20  21\n",
      "<class 'pandas.core.frame.DataFrame'>\n"
     ]
    }
   ],
   "source": [
    "list_1 = [[1,2,3,4,5,6],[11,12 ,13,14,15,16],[16,17,18,19,20,21]]\n",
    "Var_2 = pd.DataFrame(list_1)\n",
    "print(Var_2)\n",
    "print(type(Var_2))"
   ]
  },
  {
   "cell_type": "markdown",
   "id": "512e21ed-1023-4867-a132-a54263bd6e43",
   "metadata": {},
   "source": [
    "Create DataFrame using Series"
   ]
  },
  {
   "cell_type": "code",
   "execution_count": 7,
   "id": "2965b6c6-ae0c-4099-ba0e-c45606026b72",
   "metadata": {},
   "outputs": [
    {
     "name": "stdout",
     "output_type": "stream",
     "text": [
      "   S   R\n",
      "0  1   6\n",
      "1  2   7\n",
      "2  3   8\n",
      "3  4   9\n",
      "4  5  10\n",
      "<class 'pandas.core.frame.DataFrame'>\n"
     ]
    }
   ],
   "source": [
    "Sr = {\"S\":pd.Series([1,2,3,4,5]),\"R\": pd.Series([6,7,8,9,10])}\n",
    "Var_3 = pd.DataFrame(Sr)\n",
    "print(Var_3)\n",
    "print(type(Var_3))"
   ]
  },
  {
   "cell_type": "code",
   "execution_count": null,
   "id": "8bed69cc-cace-45ad-9c49-72b2f25db353",
   "metadata": {},
   "outputs": [],
   "source": []
  }
 ],
 "metadata": {
  "kernelspec": {
   "display_name": "Python 3 (ipykernel)",
   "language": "python",
   "name": "python3"
  },
  "language_info": {
   "codemirror_mode": {
    "name": "ipython",
    "version": 3
   },
   "file_extension": ".py",
   "mimetype": "text/x-python",
   "name": "python",
   "nbconvert_exporter": "python",
   "pygments_lexer": "ipython3",
   "version": "3.11.7"
  }
 },
 "nbformat": 4,
 "nbformat_minor": 5
}
