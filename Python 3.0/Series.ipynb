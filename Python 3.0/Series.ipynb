{
 "cells": [
  {
   "cell_type": "markdown",
   "id": "59fc2771-4e40-42a9-8c25-b7527ae7ea10",
   "metadata": {},
   "source": [
    "Series"
   ]
  },
  {
   "cell_type": "code",
   "execution_count": 1,
   "id": "0b2da328-5f19-4b02-a058-dd27a15398c7",
   "metadata": {},
   "outputs": [],
   "source": [
    "import pandas as pd"
   ]
  },
  {
   "cell_type": "code",
   "execution_count": 2,
   "id": "56576f88-85b1-40e9-88d2-bc0add78b697",
   "metadata": {},
   "outputs": [],
   "source": [
    "x = [1,2,3,5,6]\n"
   ]
  },
  {
   "cell_type": "code",
   "execution_count": 3,
   "id": "56cd1e9e-ed79-410e-8273-fa320a90ad42",
   "metadata": {},
   "outputs": [],
   "source": [
    "var = pd.Series(x)"
   ]
  },
  {
   "cell_type": "code",
   "execution_count": 4,
   "id": "074effc0-19b0-4a0c-9a20-92365345b74e",
   "metadata": {},
   "outputs": [
    {
     "name": "stdout",
     "output_type": "stream",
     "text": [
      "0    1\n",
      "1    2\n",
      "2    3\n",
      "3    5\n",
      "4    6\n",
      "dtype: int64\n"
     ]
    }
   ],
   "source": [
    "print(var)"
   ]
  },
  {
   "cell_type": "code",
   "execution_count": 5,
   "id": "6d2ec627-c76b-409c-9816-d00139d1d937",
   "metadata": {},
   "outputs": [
    {
     "name": "stdout",
     "output_type": "stream",
     "text": [
      "<class 'pandas.core.series.Series'>\n"
     ]
    }
   ],
   "source": [
    "print(type(var))"
   ]
  },
  {
   "cell_type": "markdown",
   "id": "d888b6d4-58ed-4e6d-b492-f9cd35e917b8",
   "metadata": {},
   "source": [
    "Get element of a series"
   ]
  },
  {
   "cell_type": "code",
   "execution_count": 6,
   "id": "c60d4d2a-9949-4c21-8820-5e6d90743520",
   "metadata": {},
   "outputs": [
    {
     "name": "stdout",
     "output_type": "stream",
     "text": [
      "3\n"
     ]
    }
   ],
   "source": [
    "print(var[2])"
   ]
  },
  {
   "cell_type": "markdown",
   "id": "38cc3a94-2c91-47d2-926f-b9c0b56f4abd",
   "metadata": {},
   "source": [
    "change Index"
   ]
  },
  {
   "cell_type": "code",
   "execution_count": 7,
   "id": "ccc3f2ab-8538-4783-ba23-c32d8b69794d",
   "metadata": {},
   "outputs": [],
   "source": [
    "var = pd.Series(x,index = ['A','B','C','D','E'])"
   ]
  },
  {
   "cell_type": "code",
   "execution_count": 8,
   "id": "7f91facc-6d8e-401d-a795-0325b409923c",
   "metadata": {},
   "outputs": [
    {
     "name": "stdout",
     "output_type": "stream",
     "text": [
      "A    1\n",
      "B    2\n",
      "C    3\n",
      "D    5\n",
      "E    6\n",
      "dtype: int64\n"
     ]
    }
   ],
   "source": [
    "print(var)"
   ]
  },
  {
   "cell_type": "markdown",
   "id": "f1d64dfb-8dd8-44f5-93ae-c5bd463e0626",
   "metadata": {},
   "source": [
    "Create Dictionary"
   ]
  },
  {
   "cell_type": "code",
   "execution_count": 9,
   "id": "e99e1e97-3a3d-4e96-a94d-8ac02b72d1fb",
   "metadata": {},
   "outputs": [
    {
     "name": "stdout",
     "output_type": "stream",
     "text": [
      "Name          [Python, C, C++, Java, Jupyter]\n",
      "Rank                          [1, 2, 4, 3, 5]\n",
      "Popularity                    [2, 5, 1, 4, 3]\n",
      "dtype: object\n",
      "<class 'pandas.core.series.Series'>\n"
     ]
    }
   ],
   "source": [
    "Dic = {\"Name\":['Python','C','C++','Java','Jupyter'],\"Rank\":[1,2,4,3,5],\"Popularity\":[2,5,1,4,3]}\n",
    "var_1 = pd.Series(Dic)\n",
    "print(var_1)\n",
    "print(type(var_1))"
   ]
  },
  {
   "cell_type": "markdown",
   "id": "c8842c31-bbe6-46f9-8117-692abdf8c230",
   "metadata": {},
   "source": [
    "Create Series"
   ]
  },
  {
   "cell_type": "code",
   "execution_count": 10,
   "id": "f925f6f7-86aa-4490-a3e2-aae94e28e0db",
   "metadata": {},
   "outputs": [
    {
     "name": "stdout",
     "output_type": "stream",
     "text": [
      "1    12\n",
      "2    12\n",
      "3    12\n",
      "4    12\n",
      "5    12\n",
      "6    12\n",
      "7    12\n",
      "dtype: int64\n",
      "<class 'pandas.core.series.Series'>\n"
     ]
    }
   ],
   "source": [
    " A = pd.Series(12,index = [1,2,3,4,5,6,7])\n",
    "print(A)\n",
    "print(type(A))"
   ]
  },
  {
   "cell_type": "code",
   "execution_count": 11,
   "id": "245be0b5-ece2-4d02-8dbc-b4db129e6128",
   "metadata": {},
   "outputs": [
    {
     "name": "stdout",
     "output_type": "stream",
     "text": [
      "1    24\n",
      "2    24\n",
      "3    24\n",
      "4    24\n",
      "5    24\n",
      "6    24\n",
      "7    24\n",
      "dtype: int64\n"
     ]
    }
   ],
   "source": [
    "A = pd.Series(12,index = [1,2,3,4,5,6,7])\n",
    "B = pd.Series(12,index = [1,2,3,4,5,6,7])\n",
    "print(A+B)"
   ]
  },
  {
   "cell_type": "code",
   "execution_count": 12,
   "id": "3e2cd2d4-8937-4a68-bd1c-ad7dfe51fd8b",
   "metadata": {},
   "outputs": [
    {
     "name": "stdout",
     "output_type": "stream",
     "text": [
      "1    24.0\n",
      "2    24.0\n",
      "3    24.0\n",
      "4    24.0\n",
      "5    24.0\n",
      "6     NaN\n",
      "7     NaN\n",
      "dtype: float64\n"
     ]
    }
   ],
   "source": [
    "A = pd.Series(12,index = [1,2,3,4,5,6,7])\n",
    "B = pd.Series(12,index = [1,2,3,4,5])\n",
    "print(A+B)\n"
   ]
  },
  {
   "cell_type": "code",
   "execution_count": null,
   "id": "68abe24d-38a5-42fe-b4a6-aecb628485c0",
   "metadata": {},
   "outputs": [],
   "source": []
  }
 ],
 "metadata": {
  "kernelspec": {
   "display_name": "Python 3 (ipykernel)",
   "language": "python",
   "name": "python3"
  },
  "language_info": {
   "codemirror_mode": {
    "name": "ipython",
    "version": 3
   },
   "file_extension": ".py",
   "mimetype": "text/x-python",
   "name": "python",
   "nbconvert_exporter": "python",
   "pygments_lexer": "ipython3",
   "version": "3.11.7"
  }
 },
 "nbformat": 4,
 "nbformat_minor": 5
}
