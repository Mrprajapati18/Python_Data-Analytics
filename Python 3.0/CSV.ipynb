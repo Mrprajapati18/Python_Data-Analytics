{
 "cells": [
  {
   "cell_type": "markdown",
   "id": "a226173b-32d7-454e-ad9d-ead65402a076",
   "metadata": {},
   "source": [
    "# Write CSV"
   ]
  },
  {
   "cell_type": "code",
   "execution_count": 1,
   "id": "b34f8aa8-e504-48ae-8168-bdc45223e2c3",
   "metadata": {},
   "outputs": [],
   "source": [
    "import pandas as pd"
   ]
  },
  {
   "cell_type": "code",
   "execution_count": 2,
   "id": "44f79ebb-ae1c-413a-98cd-e5768e87ec8a",
   "metadata": {},
   "outputs": [
    {
     "name": "stdout",
     "output_type": "stream",
     "text": [
      "   A   B   C\n",
      "0  1   6  12\n",
      "1  2   7  11\n",
      "2  3   8  13\n",
      "3  4   9  14\n",
      "4  5  10  15\n"
     ]
    }
   ],
   "source": [
    "dis = {\"A\":[1,2,3,4,5],\"B\":[6,7,8,9,10],\"C\":[12,11,13,14,15]}\n",
    "d = pd.DataFrame(dis)\n",
    "print(d)"
   ]
  },
  {
   "cell_type": "markdown",
   "id": "1406cbce-2694-4b73-bd85-53ebe78ff021",
   "metadata": {},
   "source": [
    "# Create CSV File"
   ]
  },
  {
   "cell_type": "code",
   "execution_count": 3,
   "id": "0742307d-e80c-46db-b1f8-7ce5e15ece50",
   "metadata": {},
   "outputs": [
    {
     "name": "stdout",
     "output_type": "stream",
     "text": [
      "   A   B   C\n",
      "0  1   6  12\n",
      "1  2   7  11\n",
      "2  3   8  13\n",
      "3  4   9  14\n",
      "4  5  10  15\n"
     ]
    }
   ],
   "source": [
    "dis = {\"A\":[1,2,3,4,5],\"B\":[6,7,8,9,10],\"C\":[12,11,13,14,15]}\n",
    "d = pd.DataFrame(dis)\n",
    "print(d)\n",
    "d.to_csv(\"Test_New\",index = False)"
   ]
  },
  {
   "cell_type": "markdown",
   "id": "61463f16-f0b7-4aa9-8ff8-0625742deaeb",
   "metadata": {},
   "source": [
    "# Rename Header name"
   ]
  },
  {
   "cell_type": "code",
   "execution_count": 4,
   "id": "4f5b509b-94ab-4e46-97bd-9e1a681ad4f4",
   "metadata": {},
   "outputs": [
    {
     "name": "stdout",
     "output_type": "stream",
     "text": [
      "   A   B   C\n",
      "0  1   6  12\n",
      "1  2   7  11\n",
      "2  3   8  13\n",
      "3  4   9  14\n",
      "4  5  10  15\n"
     ]
    }
   ],
   "source": [
    "dis = {\"A\":[1,2,3,4,5],\"B\":[6,7,8,9,10],\"C\":[12,11,13,14,15]}\n",
    "d = pd.DataFrame(dis)\n",
    "d.to_csv(\"Test_New_2\",index = False, header = [\"Ramu\",\"Shyamu\",\"Abhinav\"])\n",
    "print(d)"
   ]
  },
  {
   "cell_type": "code",
   "execution_count": null,
   "id": "c8fd39ab-5e99-4cab-b88d-a90620d88c16",
   "metadata": {},
   "outputs": [],
   "source": []
  }
 ],
 "metadata": {
  "kernelspec": {
   "display_name": "Python 3 (ipykernel)",
   "language": "python",
   "name": "python3"
  },
  "language_info": {
   "codemirror_mode": {
    "name": "ipython",
    "version": 3
   },
   "file_extension": ".py",
   "mimetype": "text/x-python",
   "name": "python",
   "nbconvert_exporter": "python",
   "pygments_lexer": "ipython3",
   "version": "3.11.7"
  }
 },
 "nbformat": 4,
 "nbformat_minor": 5
}
