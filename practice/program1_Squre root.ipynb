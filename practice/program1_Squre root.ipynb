{
 "cells": [
  {
   "cell_type": "markdown",
   "id": "b60385d7",
   "metadata": {},
   "source": [
    "# To write a python program to find the squre root of number"
   ]
  },
  {
   "cell_type": "markdown",
   "id": "db9873fe",
   "metadata": {},
   "source": [
    "# import libraries"
   ]
  },
  {
   "cell_type": "code",
   "execution_count": 1,
   "id": "2c709d1c",
   "metadata": {},
   "outputs": [],
   "source": [
    "import math"
   ]
  },
  {
   "cell_type": "code",
   "execution_count": 2,
   "id": "66b9b43a",
   "metadata": {},
   "outputs": [],
   "source": [
    "x=16"
   ]
  },
  {
   "cell_type": "code",
   "execution_count": 8,
   "id": "3526a359",
   "metadata": {},
   "outputs": [
    {
     "name": "stdout",
     "output_type": "stream",
     "text": [
      "The squre root of x is:  4.0\n"
     ]
    }
   ],
   "source": [
    "print(\"The squre root of x is: \",end = \" \")\n",
    "print (math.sqrt(x))"
   ]
  },
  {
   "cell_type": "code",
   "execution_count": 9,
   "id": "3f8a4ad8",
   "metadata": {},
   "outputs": [],
   "source": [
    "y=40"
   ]
  },
  {
   "cell_type": "code",
   "execution_count": 10,
   "id": "179d613a",
   "metadata": {},
   "outputs": [
    {
     "name": "stdout",
     "output_type": "stream",
     "text": [
      "The squre root of y is:6.324555320336759\n"
     ]
    }
   ],
   "source": [
    "print(\"The squre root of y is:\", end=\"\")\n",
    "print(math.sqrt(y))"
   ]
  },
  {
   "cell_type": "code",
   "execution_count": 11,
   "id": "57c5b2ae",
   "metadata": {},
   "outputs": [],
   "source": [
    "z=64\n"
   ]
  },
  {
   "cell_type": "code",
   "execution_count": 12,
   "id": "dcde5b07",
   "metadata": {},
   "outputs": [
    {
     "name": "stdout",
     "output_type": "stream",
     "text": [
      "The squre root of z is:8.0\n"
     ]
    }
   ],
   "source": [
    "print(\"The squre root of z is:\",end=\"\")\n",
    "print(math.sqrt(z))"
   ]
  },
  {
   "cell_type": "code",
   "execution_count": 13,
   "id": "86af9ca8",
   "metadata": {},
   "outputs": [],
   "source": [
    "k=90"
   ]
  },
  {
   "cell_type": "code",
   "execution_count": 14,
   "id": "650c58fd",
   "metadata": {},
   "outputs": [
    {
     "name": "stdout",
     "output_type": "stream",
     "text": [
      "The squre root of is: 9.486832980505138\n"
     ]
    }
   ],
   "source": [
    "print(\"The squre root of is:\",end=\" \")\n",
    "print(math.sqrt(k))"
   ]
  },
  {
   "cell_type": "code",
   "execution_count": 15,
   "id": "5fbdfe9c",
   "metadata": {},
   "outputs": [],
   "source": [
    "m=120\n"
   ]
  },
  {
   "cell_type": "code",
   "execution_count": 16,
   "id": "0f956d88",
   "metadata": {},
   "outputs": [
    {
     "name": "stdout",
     "output_type": "stream",
     "text": [
      "The squre root of m:10.954451150103322\n"
     ]
    }
   ],
   "source": [
    "print(\"The squre root of m:\",end=\"\")\n",
    "print(math.sqrt(m))"
   ]
  },
  {
   "cell_type": "code",
   "execution_count": null,
   "id": "5039adf0",
   "metadata": {},
   "outputs": [],
   "source": []
  }
 ],
 "metadata": {
  "kernelspec": {
   "display_name": "Python 3 (ipykernel)",
   "language": "python",
   "name": "python3"
  },
  "language_info": {
   "codemirror_mode": {
    "name": "ipython",
    "version": 3
   },
   "file_extension": ".py",
   "mimetype": "text/x-python",
   "name": "python",
   "nbconvert_exporter": "python",
   "pygments_lexer": "ipython3",
   "version": "3.11.4"
  }
 },
 "nbformat": 4,
 "nbformat_minor": 5
}
