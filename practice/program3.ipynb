{
 "cells": [
  {
   "cell_type": "markdown",
   "id": "5c744ca1",
   "metadata": {},
   "source": [
    "# Exponentail number"
   ]
  },
  {
   "cell_type": "code",
   "execution_count": 4,
   "id": "bd6f060b",
   "metadata": {},
   "outputs": [],
   "source": [
    "import math"
   ]
  },
  {
   "cell_type": "code",
   "execution_count": 12,
   "id": "f6a3442f",
   "metadata": {},
   "outputs": [],
   "source": [
    " x=2\n",
    "a=math.exp(x)"
   ]
  },
  {
   "cell_type": "code",
   "execution_count": 13,
   "id": "d8f66837",
   "metadata": {},
   "outputs": [
    {
     "name": "stdout",
     "output_type": "stream",
     "text": [
      "7.38905609893065\n"
     ]
    }
   ],
   "source": [
    "print(a)"
   ]
  },
  {
   "cell_type": "code",
   "execution_count": 15,
   "id": "915ef506",
   "metadata": {},
   "outputs": [
    {
     "name": "stdout",
     "output_type": "stream",
     "text": [
      "54.598150033144236\n"
     ]
    }
   ],
   "source": [
    "y=4\n",
    "b=math.exp(y)\n",
    "print(b)"
   ]
  },
  {
   "cell_type": "code",
   "execution_count": null,
   "id": "03a38a15",
   "metadata": {},
   "outputs": [],
   "source": []
  }
 ],
 "metadata": {
  "kernelspec": {
   "display_name": "Python 3 (ipykernel)",
   "language": "python",
   "name": "python3"
  },
  "language_info": {
   "codemirror_mode": {
    "name": "ipython",
    "version": 3
   },
   "file_extension": ".py",
   "mimetype": "text/x-python",
   "name": "python",
   "nbconvert_exporter": "python",
   "pygments_lexer": "ipython3",
   "version": "3.11.4"
  }
 },
 "nbformat": 4,
 "nbformat_minor": 5
}
