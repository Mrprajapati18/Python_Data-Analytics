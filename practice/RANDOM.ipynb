{
 "cells": [
  {
   "cell_type": "markdown",
   "id": "af8964ce",
   "metadata": {},
   "source": [
    "# create numpy array with randam numbers"
   ]
  },
  {
   "cell_type": "code",
   "execution_count": 1,
   "id": "85099772",
   "metadata": {},
   "outputs": [],
   "source": [
    "import numpy as np"
   ]
  },
  {
   "cell_type": "markdown",
   "id": "9d5b5bd5",
   "metadata": {},
   "source": [
    "# rand()"
   ]
  },
  {
   "cell_type": "code",
   "execution_count": 3,
   "id": "062818f0",
   "metadata": {},
   "outputs": [
    {
     "name": "stdout",
     "output_type": "stream",
     "text": [
      "[0.47706935 0.73771907 0.18104187 0.55910121]\n"
     ]
    }
   ],
   "source": [
    "array_1=np.random.rand(4)\n",
    "print(array_1)"
   ]
  },
  {
   "cell_type": "code",
   "execution_count": 5,
   "id": "c6ad25f0",
   "metadata": {},
   "outputs": [
    {
     "name": "stdout",
     "output_type": "stream",
     "text": [
      "[0.27897978 0.39582818 0.75110277 0.08474843 0.88450136]\n"
     ]
    }
   ],
   "source": [
    "array_2=np.random.rand(5)\n",
    "print(array_2)"
   ]
  },
  {
   "cell_type": "code",
   "execution_count": 8,
   "id": "bdf33155",
   "metadata": {},
   "outputs": [
    {
     "name": "stdout",
     "output_type": "stream",
     "text": [
      "[[0.37778877 0.23626785 0.45194732 0.79548688]\n",
      " [0.02269078 0.37295135 0.28224518 0.41696176]]\n"
     ]
    }
   ],
   "source": [
    "array_3=np.random.rand(2,4)\n",
    "print(array_3)"
   ]
  },
  {
   "cell_type": "markdown",
   "id": "819d7d6a",
   "metadata": {},
   "source": [
    "# randn()"
   ]
  },
  {
   "cell_type": "code",
   "execution_count": 9,
   "id": "a5554f09",
   "metadata": {},
   "outputs": [
    {
     "name": "stdout",
     "output_type": "stream",
     "text": [
      "[[ 0.08034556  0.03154428 -2.56955904 -0.09206419 -1.07338855]\n",
      " [-0.15125863 -0.91059335  0.57337409 -0.34830999 -0.6988885 ]]\n"
     ]
    }
   ],
   "source": [
    "array_1=np.random.randn(2,5)\n",
    "print(array_1)"
   ]
  },
  {
   "cell_type": "markdown",
   "id": "6f156142",
   "metadata": {},
   "source": [
    "# ranf()"
   ]
  },
  {
   "cell_type": "code",
   "execution_count": 11,
   "id": "2c46cb0b",
   "metadata": {},
   "outputs": [
    {
     "name": "stdout",
     "output_type": "stream",
     "text": [
      "[0.22290463 0.4731199  0.70333383 0.29624465 0.0695548 ]\n"
     ]
    }
   ],
   "source": [
    "array_1=np.random.ranf(5)\n",
    "print(array_1)"
   ]
  },
  {
   "cell_type": "code",
   "execution_count": 12,
   "id": "6bcade1d",
   "metadata": {},
   "outputs": [
    {
     "name": "stdout",
     "output_type": "stream",
     "text": [
      "[0.22290463 0.4731199  0.70333383 0.29624465 0.0695548 ]\n"
     ]
    }
   ],
   "source": [
    "array_2=np.random.ranf(9)\n",
    "print(array_1)"
   ]
  },
  {
   "cell_type": "markdown",
   "id": "2e28412f",
   "metadata": {},
   "source": [
    "# randint()"
   ]
  },
  {
   "cell_type": "code",
   "execution_count": 13,
   "id": "d47f2739",
   "metadata": {},
   "outputs": [
    {
     "name": "stdout",
     "output_type": "stream",
     "text": [
      "0\n"
     ]
    }
   ],
   "source": [
    "array_1=np.random.randint(2)\n",
    "print(array_1)"
   ]
  },
  {
   "cell_type": "code",
   "execution_count": 14,
   "id": "6d8984d2",
   "metadata": {},
   "outputs": [
    {
     "name": "stdout",
     "output_type": "stream",
     "text": [
      "5\n"
     ]
    }
   ],
   "source": [
    "array_2=np.random.randint(3,6)\n",
    "print(array_2)"
   ]
  },
  {
   "cell_type": "code",
   "execution_count": 15,
   "id": "4870cfa2",
   "metadata": {},
   "outputs": [
    {
     "name": "stdout",
     "output_type": "stream",
     "text": [
      "[ 8 12 10 12 15]\n"
     ]
    }
   ],
   "source": [
    "array_3=np.random.randint(5,20,5)\n",
    "print(array_3)"
   ]
  },
  {
   "cell_type": "code",
   "execution_count": null,
   "id": "6ee17023",
   "metadata": {},
   "outputs": [],
   "source": []
  }
 ],
 "metadata": {
  "kernelspec": {
   "display_name": "Python 3 (ipykernel)",
   "language": "python",
   "name": "python3"
  },
  "language_info": {
   "codemirror_mode": {
    "name": "ipython",
    "version": 3
   },
   "file_extension": ".py",
   "mimetype": "text/x-python",
   "name": "python",
   "nbconvert_exporter": "python",
   "pygments_lexer": "ipython3",
   "version": "3.11.4"
  }
 },
 "nbformat": 4,
 "nbformat_minor": 5
}
