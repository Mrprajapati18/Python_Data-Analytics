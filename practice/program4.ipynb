{
 "cells": [
  {
   "cell_type": "markdown",
   "id": "ea8491ea",
   "metadata": {},
   "source": [
    "# mathod1"
   ]
  },
  {
   "cell_type": "code",
   "execution_count": 15,
   "id": "55f77ca7",
   "metadata": {},
   "outputs": [],
   "source": [
    "import math"
   ]
  },
  {
   "cell_type": "code",
   "execution_count": 17,
   "id": "60f422d9",
   "metadata": {},
   "outputs": [
    {
     "name": "stdout",
     "output_type": "stream",
     "text": [
      "largest number is: 62\n"
     ]
    }
   ],
   "source": [
    "list=[50,54,52,62,60]\n",
    "print(\"largest number is:\", max(list))"
   ]
  },
  {
   "cell_type": "markdown",
   "id": "4f77666d",
   "metadata": {},
   "source": [
    "# mathod2"
   ]
  },
  {
   "cell_type": "code",
   "execution_count": 20,
   "id": "5f217e50",
   "metadata": {},
   "outputs": [
    {
     "name": "stdout",
     "output_type": "stream",
     "text": [
      "62\n"
     ]
    }
   ],
   "source": [
    "list=[50,54,52,62,60]\n",
    "y=max(list)\n",
    "print(y)"
   ]
  },
  {
   "cell_type": "markdown",
   "id": "dd46c773",
   "metadata": {},
   "source": [
    "# mathod3"
   ]
  },
  {
   "cell_type": "markdown",
   "id": "f83fcfbd",
   "metadata": {},
   "source": [
    "# second largest number"
   ]
  },
  {
   "cell_type": "code",
   "execution_count": 23,
   "id": "fc36cf5f",
   "metadata": {},
   "outputs": [
    {
     "name": "stdout",
     "output_type": "stream",
     "text": [
      "60\n"
     ]
    }
   ],
   "source": [
    "list=[50,54,52,62,60]\n",
    "p=list[-1]\n",
    "print(p)"
   ]
  },
  {
   "cell_type": "markdown",
   "id": "8e3d30d8",
   "metadata": {},
   "source": [
    "# 3 miniman number"
   ]
  },
  {
   "cell_type": "code",
   "execution_count": 25,
   "id": "ccb73c8b",
   "metadata": {},
   "outputs": [
    {
     "name": "stdout",
     "output_type": "stream",
     "text": [
      "54\n"
     ]
    }
   ],
   "source": [
    "list=[50,54,52,62,60]\n",
    "p=list[+1]\n",
    "print(p)"
   ]
  },
  {
   "cell_type": "code",
   "execution_count": null,
   "id": "b7577a26",
   "metadata": {},
   "outputs": [],
   "source": []
  }
 ],
 "metadata": {
  "kernelspec": {
   "display_name": "Python 3 (ipykernel)",
   "language": "python",
   "name": "python3"
  },
  "language_info": {
   "codemirror_mode": {
    "name": "ipython",
    "version": 3
   },
   "file_extension": ".py",
   "mimetype": "text/x-python",
   "name": "python",
   "nbconvert_exporter": "python",
   "pygments_lexer": "ipython3",
   "version": "3.11.4"
  }
 },
 "nbformat": 4,
 "nbformat_minor": 5
}
