{
 "cells": [
  {
   "cell_type": "markdown",
   "id": "8a104c41",
   "metadata": {},
   "source": [
    "# NUMPY ARRAY"
   ]
  },
  {
   "cell_type": "markdown",
   "id": "28507873",
   "metadata": {},
   "source": [
    "# import libraries"
   ]
  },
  {
   "cell_type": "code",
   "execution_count": 1,
   "id": "f26d2d35",
   "metadata": {},
   "outputs": [],
   "source": [
    "import numpy as np"
   ]
  },
  {
   "cell_type": "markdown",
   "id": "d5b75426",
   "metadata": {},
   "source": [
    "# create numpy array"
   ]
  },
  {
   "cell_type": "code",
   "execution_count": 2,
   "id": "5a3f090e",
   "metadata": {},
   "outputs": [
    {
     "name": "stdout",
     "output_type": "stream",
     "text": [
      "[1 2 3 4 5]\n"
     ]
    }
   ],
   "source": [
    "a = np.array([1,2,3,4,5])\n",
    "print(a)"
   ]
  },
  {
   "cell_type": "markdown",
   "id": "1123eb3e",
   "metadata": {},
   "source": [
    "# array"
   ]
  },
  {
   "cell_type": "code",
   "execution_count": 3,
   "id": "a337d1d4",
   "metadata": {},
   "outputs": [],
   "source": [
    "x=[1,2,3,4,5,6]\n",
    "y=np.array(x)\n"
   ]
  },
  {
   "cell_type": "code",
   "execution_count": 4,
   "id": "d3970f55",
   "metadata": {},
   "outputs": [
    {
     "name": "stdout",
     "output_type": "stream",
     "text": [
      "[1 2 3 4 5 6]\n"
     ]
    }
   ],
   "source": [
    "print(y) "
   ]
  },
  {
   "cell_type": "code",
   "execution_count": 5,
   "id": "ff599d7f",
   "metadata": {},
   "outputs": [
    {
     "name": "stdout",
     "output_type": "stream",
     "text": [
      "<class 'numpy.ndarray'>\n"
     ]
    }
   ],
   "source": [
    "print(type(y))"
   ]
  },
  {
   "cell_type": "markdown",
   "id": "ef6bf65c",
   "metadata": {},
   "source": [
    "# Dimension in array"
   ]
  },
  {
   "cell_type": "markdown",
   "id": "a489d21b",
   "metadata": {},
   "source": [
    "# 1D array"
   ]
  },
  {
   "cell_type": "code",
   "execution_count": 6,
   "id": "6ce32908",
   "metadata": {},
   "outputs": [
    {
     "name": "stdout",
     "output_type": "stream",
     "text": [
      "[1 2 3 4 5 6]\n",
      "1\n",
      "<class 'numpy.ndarray'>\n"
     ]
    }
   ],
   "source": [
    "x=[1,2,3,4,5,6]\n",
    "\n",
    "y=np.array(x)\n",
    "print(y)\n",
    "\n",
    "print(y.ndim)\n",
    "print(type(y))"
   ]
  },
  {
   "cell_type": "markdown",
   "id": "764d9f30",
   "metadata": {},
   "source": [
    "# 2D array"
   ]
  },
  {
   "cell_type": "code",
   "execution_count": 7,
   "id": "e14fe61e",
   "metadata": {},
   "outputs": [
    {
     "name": "stdout",
     "output_type": "stream",
     "text": [
      "[[1 2 3 4]\n",
      " [4 5 6 7]]\n",
      "2\n"
     ]
    }
   ],
   "source": [
    "array1=np.array([[1,2,3,4],[4,5,6,7]])\n",
    "print(array1)\n",
    "\n",
    "print(array1.ndim)"
   ]
  },
  {
   "cell_type": "markdown",
   "id": "e2357b2d",
   "metadata": {},
   "source": [
    "# 3D array"
   ]
  },
  {
   "cell_type": "code",
   "execution_count": 8,
   "id": "b7b7c0c2",
   "metadata": {},
   "outputs": [
    {
     "name": "stdout",
     "output_type": "stream",
     "text": [
      "[[[1 2 3 4]\n",
      "  [1 4 5 6]\n",
      "  [4 5 6 7]]]\n",
      "3\n"
     ]
    }
   ],
   "source": [
    "array2=np.array([[[1,2,3,4],[1,4,5,6],[4,5,6,7]]])\n",
    "print(array2)\n",
    "print(array2.ndim)\n"
   ]
  },
  {
   "cell_type": "markdown",
   "id": "e247f8cf",
   "metadata": {},
   "source": [
    "# ND array"
   ]
  },
  {
   "cell_type": "code",
   "execution_count": 9,
   "id": "72a3c860",
   "metadata": {},
   "outputs": [
    {
     "name": "stdout",
     "output_type": "stream",
     "text": [
      "[[[[[[[[[[1 2 3 4]]]]]]]]]]\n",
      "10\n"
     ]
    }
   ],
   "source": [
    "arrayn=np.array([1,2,3,4],ndmin=10)\n",
    "print(arrayn)\n",
    "print(arrayn.ndim)"
   ]
  },
  {
   "cell_type": "markdown",
   "id": "3a7fde37",
   "metadata": {},
   "source": [
    "# SPECIAL NUMPY ARRAY "
   ]
  },
  {
   "cell_type": "markdown",
   "id": "682c7771",
   "metadata": {},
   "source": [
    "# ARRAY FILL WITH ZERO"
   ]
  },
  {
   "cell_type": "code",
   "execution_count": 10,
   "id": "89e07bce",
   "metadata": {},
   "outputs": [
    {
     "name": "stdout",
     "output_type": "stream",
     "text": [
      "[0. 0. 0. 0.]\n",
      "\n",
      "1\n"
     ]
    }
   ],
   "source": [
    "array_zero=np.zeros(4)\n",
    "print(array_zero)\n",
    "print()\n",
    "print(array_zero.ndim)"
   ]
  },
  {
   "cell_type": "code",
   "execution_count": 11,
   "id": "2d4737a6",
   "metadata": {},
   "outputs": [
    {
     "name": "stdout",
     "output_type": "stream",
     "text": [
      "[[0. 0. 0. 0.]\n",
      " [0. 0. 0. 0.]\n",
      " [0. 0. 0. 0.]]\n",
      "2\n"
     ]
    }
   ],
   "source": [
    "array_zero1=np.zeros((3,4))\n",
    "print (array_zero1)\n",
    "print(array_zero1.ndim)"
   ]
  },
  {
   "cell_type": "markdown",
   "id": "11dc336f",
   "metadata": {},
   "source": [
    "# ARRAY FILL WITH ONES"
   ]
  },
  {
   "cell_type": "code",
   "execution_count": 12,
   "id": "bed937ce",
   "metadata": {},
   "outputs": [
    {
     "name": "stdout",
     "output_type": "stream",
     "text": [
      "[1. 1. 1. 1. 1.]\n",
      "1\n"
     ]
    }
   ],
   "source": [
    "array_one=np.ones(5)\n",
    "print(array_one)\n",
    "print(array_one.ndim)"
   ]
  },
  {
   "cell_type": "code",
   "execution_count": 16,
   "id": "52a14834",
   "metadata": {},
   "outputs": [
    {
     "name": "stdout",
     "output_type": "stream",
     "text": [
      "[[1. 1. 1. 1.]\n",
      " [1. 1. 1. 1.]\n",
      " [1. 1. 1. 1.]]\n",
      "2\n"
     ]
    }
   ],
   "source": [
    "array_one=np.ones([3,4])\n",
    "print(array_one)\n",
    "\n",
    "print(array_one.ndim)"
   ]
  },
  {
   "cell_type": "code",
   "execution_count": 17,
   "id": "f94ae98c",
   "metadata": {},
   "outputs": [
    {
     "name": "stdout",
     "output_type": "stream",
     "text": [
      "[[1. 1.]\n",
      " [1. 1.]]\n"
     ]
    }
   ],
   "source": [
    "array_one=np.ones([2,2])\n",
    "print(array_one)"
   ]
  },
  {
   "cell_type": "markdown",
   "id": "f6891411",
   "metadata": {},
   "source": [
    "# ARRAY FILL WITH EMPTY"
   ]
  },
  {
   "cell_type": "code",
   "execution_count": 18,
   "id": "5d988f3a",
   "metadata": {},
   "outputs": [
    {
     "name": "stdout",
     "output_type": "stream",
     "text": [
      "[1. 1. 1. 1.]\n"
     ]
    }
   ],
   "source": [
    "array_em=np.empty(4)\n",
    "print(array_em)"
   ]
  },
  {
   "cell_type": "markdown",
   "id": "57ab6ef9",
   "metadata": {},
   "source": [
    "# ARRAY FILL WITH RANGE"
   ]
  },
  {
   "cell_type": "code",
   "execution_count": 20,
   "id": "1a5be338",
   "metadata": {},
   "outputs": [
    {
     "name": "stdout",
     "output_type": "stream",
     "text": [
      "[0 1 2 3]\n"
     ]
    }
   ],
   "source": [
    "array_ra=np.arange(4)\n",
    "print(array_ra)"
   ]
  },
  {
   "cell_type": "code",
   "execution_count": 23,
   "id": "5567b22d",
   "metadata": {},
   "outputs": [
    {
     "name": "stdout",
     "output_type": "stream",
     "text": [
      "[0 1 2 3 4]\n"
     ]
    }
   ],
   "source": [
    "array_ra1= np.arange(5)\n",
    "print(array_ra1)"
   ]
  },
  {
   "cell_type": "markdown",
   "id": "cc8cf7f8",
   "metadata": {},
   "source": [
    "# ARRAY FILL WITH DIAGONAL"
   ]
  },
  {
   "cell_type": "code",
   "execution_count": 26,
   "id": "6e6fb298",
   "metadata": {},
   "outputs": [
    {
     "name": "stdout",
     "output_type": "stream",
     "text": [
      "[[1. 0. 0. 0.]\n",
      " [0. 1. 0. 0.]\n",
      " [0. 0. 1. 0.]\n",
      " [0. 0. 0. 1.]]\n",
      "2\n"
     ]
    }
   ],
   "source": [
    "array_dia=np.eye(4)\n",
    "print(array_dia)\n",
    "print(array_dia.ndim)"
   ]
  },
  {
   "cell_type": "code",
   "execution_count": 27,
   "id": "d109494a",
   "metadata": {},
   "outputs": [
    {
     "name": "stdout",
     "output_type": "stream",
     "text": [
      "[[1. 0. 0. 0.]\n",
      " [0. 1. 0. 0.]\n",
      " [0. 0. 1. 0.]\n",
      " [0. 0. 0. 1.]]\n"
     ]
    }
   ],
   "source": [
    "array_dia1=np.eye(3)\n",
    "print(array_dia)"
   ]
  },
  {
   "cell_type": "markdown",
   "id": "1956d728",
   "metadata": {},
   "source": [
    "# ARRAY FILL WITH LINSPACE"
   ]
  },
  {
   "cell_type": "code",
   "execution_count": 28,
   "id": "c1029b50",
   "metadata": {},
   "outputs": [
    {
     "name": "stdout",
     "output_type": "stream",
     "text": [
      "[ 1.    3.25  5.5   7.75 10.  ]\n"
     ]
    }
   ],
   "source": [
    "array_lin=np.linspace(1,10,num=5)\n",
    "print(array_lin)"
   ]
  },
  {
   "cell_type": "code",
   "execution_count": 29,
   "id": "75eddf9b",
   "metadata": {},
   "outputs": [
    {
     "name": "stdout",
     "output_type": "stream",
     "text": [
      "[ 1.    3.25  5.5   7.75 10.  ]\n"
     ]
    }
   ],
   "source": [
    "arary_lin=np.linspace(2,10,num=5)\n",
    "print(array_lin)"
   ]
  }
 ],
 "metadata": {
  "kernelspec": {
   "display_name": "Python 3 (ipykernel)",
   "language": "python",
   "name": "python3"
  },
  "language_info": {
   "codemirror_mode": {
    "name": "ipython",
    "version": 3
   },
   "file_extension": ".py",
   "mimetype": "text/x-python",
   "name": "python",
   "nbconvert_exporter": "python",
   "pygments_lexer": "ipython3",
   "version": "3.11.5"
  }
 },
 "nbformat": 4,
 "nbformat_minor": 5
}
