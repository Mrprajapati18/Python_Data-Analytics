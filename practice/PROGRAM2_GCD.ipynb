{
 "cells": [
  {
   "cell_type": "markdown",
   "id": "025f7228",
   "metadata": {},
   "source": [
    "# GCD(GRETEST COMMAN DIVISOR)"
   ]
  },
  {
   "cell_type": "markdown",
   "id": "d07280b7",
   "metadata": {},
   "source": [
    "# import libraries"
   ]
  },
  {
   "cell_type": "code",
   "execution_count": 4,
   "id": "6385036e",
   "metadata": {},
   "outputs": [],
   "source": [
    "import math"
   ]
  },
  {
   "cell_type": "code",
   "execution_count": 7,
   "id": "15b81f64",
   "metadata": {},
   "outputs": [
    {
     "name": "stdout",
     "output_type": "stream",
     "text": [
      "The GCD of 45 and 40 is: 5\n"
     ]
    }
   ],
   "source": [
    "print(\"The GCD of 45 and 40 is: \",end=\"\")\n",
    "print(math.gcd(45,40))\n"
   ]
  },
  {
   "cell_type": "code",
   "execution_count": 9,
   "id": "4c36c3bc",
   "metadata": {},
   "outputs": [
    {
     "name": "stdout",
     "output_type": "stream",
     "text": [
      "The GCD of 120,40,30 and 50 is :10\n"
     ]
    }
   ],
   "source": [
    "print(\"The GCD of 120,40,30 and 50 is :\",end=\"\")\n",
    "print(math.gcd(120,40,30,50 ))"
   ]
  },
  {
   "cell_type": "code",
   "execution_count": 10,
   "id": "4e604c41",
   "metadata": {},
   "outputs": [
    {
     "name": "stdout",
     "output_type": "stream",
     "text": [
      "The GCD of 130,150,40,30 and 60 is :10\n"
     ]
    }
   ],
   "source": [
    "print(\"The GCD of 130,150,40,30 and 60 is :\",end=\"\")\n",
    "print(math.gcd(130,150,40,30,60))"
   ]
  }
 ],
 "metadata": {
  "kernelspec": {
   "display_name": "Python 3 (ipykernel)",
   "language": "python",
   "name": "python3"
  },
  "language_info": {
   "codemirror_mode": {
    "name": "ipython",
    "version": 3
   },
   "file_extension": ".py",
   "mimetype": "text/x-python",
   "name": "python",
   "nbconvert_exporter": "python",
   "pygments_lexer": "ipython3",
   "version": "3.11.4"
  }
 },
 "nbformat": 4,
 "nbformat_minor": 5
}
