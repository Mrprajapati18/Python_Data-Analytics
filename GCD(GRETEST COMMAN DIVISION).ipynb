{
 "cells": [
  {
   "cell_type": "markdown",
   "id": "8197b907",
   "metadata": {},
   "source": [
    "# GCD(GRETEST COMMAN DIVISOR)"
   ]
  },
  {
   "cell_type": "markdown",
   "id": "d6420b76",
   "metadata": {},
   "source": [
    "# Import math"
   ]
  },
  {
   "cell_type": "code",
   "execution_count": 4,
   "id": "1b333603",
   "metadata": {},
   "outputs": [],
   "source": [
    "import math"
   ]
  },
  {
   "cell_type": "code",
   "execution_count": 5,
   "id": "09fc088e",
   "metadata": {},
   "outputs": [
    {
     "name": "stdout",
     "output_type": "stream",
     "text": [
      "The GCD of 45 and 40 is :5\n"
     ]
    }
   ],
   "source": [
    "print(\"The GCD of 45 and 40 is :\", end=\"\")\n",
    "print(math.gcd(45,40))"
   ]
  },
  {
   "cell_type": "code",
   "execution_count": 6,
   "id": "edd03444",
   "metadata": {},
   "outputs": [
    {
     "name": "stdout",
     "output_type": "stream",
     "text": [
      "The GCd of 120,40,34 and 50 is :2\n"
     ]
    }
   ],
   "source": [
    "print(\"The GCd of 120,40,34 and 50 is :\",end=\"\")\n",
    "print(math.gcd(120,40,34,50))"
   ]
  },
  {
   "cell_type": "code",
   "execution_count": 7,
   "id": "7a39e098",
   "metadata": {},
   "outputs": [
    {
     "name": "stdout",
     "output_type": "stream",
     "text": [
      "The GCd of 130,129,65 and 90 is :1\n"
     ]
    }
   ],
   "source": [
    "print(\"The GCd of 130,129,65 and 90 is :\",end=\"\")\n",
    "print(math.gcd(130,129,65,90 ))\n"
   ]
  },
  {
   "cell_type": "code",
   "execution_count": null,
   "id": "d0dc74c4",
   "metadata": {},
   "outputs": [],
   "source": []
  }
 ],
 "metadata": {
  "kernelspec": {
   "display_name": "Python 3 (ipykernel)",
   "language": "python",
   "name": "python3"
  },
  "language_info": {
   "codemirror_mode": {
    "name": "ipython",
    "version": 3
   },
   "file_extension": ".py",
   "mimetype": "text/x-python",
   "name": "python",
   "nbconvert_exporter": "python",
   "pygments_lexer": "ipython3",
   "version": "3.11.5"
  }
 },
 "nbformat": 4,
 "nbformat_minor": 5
}
