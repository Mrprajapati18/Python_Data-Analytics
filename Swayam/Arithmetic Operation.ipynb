{
 "cells": [
  {
   "cell_type": "markdown",
   "id": "510fcd60",
   "metadata": {},
   "source": [
    "# Addition,substraction,maltiplication"
   ]
  },
  {
   "cell_type": "code",
   "execution_count": 1,
   "id": "8e208eb1",
   "metadata": {},
   "outputs": [
    {
     "data": {
      "text/plain": [
       "3"
      ]
     },
     "execution_count": 1,
     "metadata": {},
     "output_type": "execute_result"
    }
   ],
   "source": [
    "1+2"
   ]
  },
  {
   "cell_type": "code",
   "execution_count": 2,
   "id": "e0540f4f",
   "metadata": {},
   "outputs": [
    {
     "name": "stdout",
     "output_type": "stream",
     "text": [
      "4\n"
     ]
    }
   ],
   "source": [
    "print(1+3)"
   ]
  },
  {
   "cell_type": "code",
   "execution_count": 3,
   "id": "0f815d6c",
   "metadata": {},
   "outputs": [
    {
     "data": {
      "text/plain": [
       "2"
      ]
     },
     "execution_count": 3,
     "metadata": {},
     "output_type": "execute_result"
    }
   ],
   "source": [
    "5-3"
   ]
  },
  {
   "cell_type": "code",
   "execution_count": 4,
   "id": "1f0f7040",
   "metadata": {},
   "outputs": [
    {
     "name": "stdout",
     "output_type": "stream",
     "text": [
      "2\n"
     ]
    }
   ],
   "source": [
    "print(5-3)"
   ]
  },
  {
   "cell_type": "code",
   "execution_count": 5,
   "id": "5cedc713",
   "metadata": {},
   "outputs": [
    {
     "data": {
      "text/plain": [
       "24"
      ]
     },
     "execution_count": 5,
     "metadata": {},
     "output_type": "execute_result"
    }
   ],
   "source": [
    "4*6"
   ]
  },
  {
   "cell_type": "code",
   "execution_count": 6,
   "id": "594a1ad7",
   "metadata": {},
   "outputs": [
    {
     "name": "stdout",
     "output_type": "stream",
     "text": [
      "24\n"
     ]
    }
   ],
   "source": [
    "print(4*6)"
   ]
  },
  {
   "cell_type": "markdown",
   "id": "65de233d",
   "metadata": {},
   "source": [
    "# Absolute values"
   ]
  },
  {
   "cell_type": "code",
   "execution_count": 7,
   "id": "776285d1",
   "metadata": {},
   "outputs": [
    {
     "data": {
      "text/plain": [
       "19"
      ]
     },
     "execution_count": 7,
     "metadata": {},
     "output_type": "execute_result"
    }
   ],
   "source": [
    "abs(-19)"
   ]
  },
  {
   "cell_type": "code",
   "execution_count": 8,
   "id": "5bf152b1",
   "metadata": {},
   "outputs": [
    {
     "data": {
      "text/plain": [
       "45"
      ]
     },
     "execution_count": 8,
     "metadata": {},
     "output_type": "execute_result"
    }
   ],
   "source": [
    "abs(45)"
   ]
  },
  {
   "cell_type": "code",
   "execution_count": 9,
   "id": "37984579",
   "metadata": {},
   "outputs": [
    {
     "data": {
      "text/plain": [
       "5.6"
      ]
     },
     "execution_count": 9,
     "metadata": {},
     "output_type": "execute_result"
    }
   ],
   "source": [
    "abs(-5.6)"
   ]
  },
  {
   "cell_type": "markdown",
   "id": "c2715edb",
   "metadata": {},
   "source": [
    "# Round values"
   ]
  },
  {
   "cell_type": "code",
   "execution_count": 10,
   "id": "736b6cd5",
   "metadata": {},
   "outputs": [
    {
     "data": {
      "text/plain": [
       "4"
      ]
     },
     "execution_count": 10,
     "metadata": {},
     "output_type": "execute_result"
    }
   ],
   "source": [
    "round(4.324)"
   ]
  },
  {
   "cell_type": "code",
   "execution_count": 11,
   "id": "3bd81f11",
   "metadata": {},
   "outputs": [
    {
     "data": {
      "text/plain": [
       "4.37"
      ]
     },
     "execution_count": 11,
     "metadata": {},
     "output_type": "execute_result"
    }
   ],
   "source": [
    "round(4.368,2)"
   ]
  },
  {
   "cell_type": "code",
   "execution_count": 12,
   "id": "31805f20",
   "metadata": {},
   "outputs": [
    {
     "data": {
      "text/plain": [
       "2.5"
      ]
     },
     "execution_count": 12,
     "metadata": {},
     "output_type": "execute_result"
    }
   ],
   "source": [
    "round(2.48,1)"
   ]
  },
  {
   "cell_type": "code",
   "execution_count": 13,
   "id": "db81ec18",
   "metadata": {},
   "outputs": [
    {
     "data": {
      "text/plain": [
       "8.239"
      ]
     },
     "execution_count": 13,
     "metadata": {},
     "output_type": "execute_result"
    }
   ],
   "source": [
    "round(8.2387,3)"
   ]
  },
  {
   "cell_type": "code",
   "execution_count": 14,
   "id": "fda01a18",
   "metadata": {},
   "outputs": [
    {
     "data": {
      "text/plain": [
       "2"
      ]
     },
     "execution_count": 14,
     "metadata": {},
     "output_type": "execute_result"
    }
   ],
   "source": [
    "round(2.484)"
   ]
  },
  {
   "cell_type": "code",
   "execution_count": 21,
   "id": "56e54f9e",
   "metadata": {},
   "outputs": [
    {
     "data": {
      "text/plain": [
       "2.48"
      ]
     },
     "execution_count": 21,
     "metadata": {},
     "output_type": "execute_result"
    }
   ],
   "source": [
    "round(2.484,2)"
   ]
  },
  {
   "cell_type": "code",
   "execution_count": null,
   "id": "4960af6d",
   "metadata": {},
   "outputs": [],
   "source": []
  }
 ],
 "metadata": {
  "kernelspec": {
   "display_name": "Python 3 (ipykernel)",
   "language": "python",
   "name": "python3"
  },
  "language_info": {
   "codemirror_mode": {
    "name": "ipython",
    "version": 3
   },
   "file_extension": ".py",
   "mimetype": "text/x-python",
   "name": "python",
   "nbconvert_exporter": "python",
   "pygments_lexer": "ipython3",
   "version": "3.11.5"
  }
 },
 "nbformat": 4,
 "nbformat_minor": 5
}
