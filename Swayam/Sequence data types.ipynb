{
 "cells": [
  {
   "cell_type": "code",
   "execution_count": 1,
   "id": "0358e8cd",
   "metadata": {},
   "outputs": [],
   "source": [
    "num_list=[1,2,3,4]"
   ]
  },
  {
   "cell_type": "code",
   "execution_count": 2,
   "id": "d59f55d6",
   "metadata": {},
   "outputs": [
    {
     "data": {
      "text/plain": [
       "[1, 2, 3, 4]"
      ]
     },
     "execution_count": 2,
     "metadata": {},
     "output_type": "execute_result"
    }
   ],
   "source": [
    "num_list"
   ]
  },
  {
   "cell_type": "code",
   "execution_count": 3,
   "id": "06bc0592",
   "metadata": {},
   "outputs": [],
   "source": [
    "var_list=[1,1.2,[1,2]]"
   ]
  },
  {
   "cell_type": "code",
   "execution_count": 4,
   "id": "e1c0f437",
   "metadata": {},
   "outputs": [
    {
     "data": {
      "text/plain": [
       "[1, 1.2, [1, 2]]"
      ]
     },
     "execution_count": 4,
     "metadata": {},
     "output_type": "execute_result"
    }
   ],
   "source": [
    "var_list"
   ]
  },
  {
   "cell_type": "code",
   "execution_count": 5,
   "id": "012a0f24",
   "metadata": {},
   "outputs": [],
   "source": [
    "greeting_string=\"hello\""
   ]
  },
  {
   "cell_type": "code",
   "execution_count": 6,
   "id": "6e5ec114",
   "metadata": {},
   "outputs": [
    {
     "data": {
      "text/plain": [
       "'hello'"
      ]
     },
     "execution_count": 6,
     "metadata": {},
     "output_type": "execute_result"
    }
   ],
   "source": [
    "greeting_string"
   ]
  },
  {
   "cell_type": "markdown",
   "id": "4235aa25",
   "metadata": {},
   "source": [
    "# string type(single,double,triple)"
   ]
  },
  {
   "cell_type": "code",
   "execution_count": 7,
   "id": "852af998",
   "metadata": {},
   "outputs": [],
   "source": [
    "k='Durgesh is a student of cse brach'"
   ]
  },
  {
   "cell_type": "code",
   "execution_count": 8,
   "id": "e03e64da",
   "metadata": {},
   "outputs": [],
   "source": [
    "p=\"durgesh is a weak student of his class\""
   ]
  },
  {
   "cell_type": "code",
   "execution_count": 9,
   "id": "88e63ded",
   "metadata": {},
   "outputs": [],
   "source": [
    "g=\"\"\"durgesh is inteligent student of his classmate\"\"\""
   ]
  },
  {
   "cell_type": "code",
   "execution_count": 10,
   "id": "2a86a53e",
   "metadata": {},
   "outputs": [],
   "source": [
    "person_tuple=(24,\"Durgesh\",56.8)"
   ]
  },
  {
   "cell_type": "code",
   "execution_count": 11,
   "id": "ec7d95d3",
   "metadata": {},
   "outputs": [
    {
     "data": {
      "text/plain": [
       "(24, 'Durgesh', 56.8)"
      ]
     },
     "execution_count": 11,
     "metadata": {},
     "output_type": "execute_result"
    }
   ],
   "source": [
    "person_tuple"
   ]
  },
  {
   "cell_type": "code",
   "execution_count": 12,
   "id": "cf506095",
   "metadata": {},
   "outputs": [
    {
     "data": {
      "text/plain": [
       "3"
      ]
     },
     "execution_count": 12,
     "metadata": {},
     "output_type": "execute_result"
    }
   ],
   "source": [
    "num_list[2]"
   ]
  },
  {
   "cell_type": "code",
   "execution_count": 13,
   "id": "07cf9e4e",
   "metadata": {},
   "outputs": [
    {
     "data": {
      "text/plain": [
       "4"
      ]
     },
     "execution_count": 13,
     "metadata": {},
     "output_type": "execute_result"
    }
   ],
   "source": [
    "num_list[-1]"
   ]
  },
  {
   "cell_type": "code",
   "execution_count": 14,
   "id": "7be32a61",
   "metadata": {},
   "outputs": [
    {
     "data": {
      "text/plain": [
       "'l'"
      ]
     },
     "execution_count": 14,
     "metadata": {},
     "output_type": "execute_result"
    }
   ],
   "source": [
    "greeting_string[-3]"
   ]
  },
  {
   "cell_type": "code",
   "execution_count": 15,
   "id": "f4390f30",
   "metadata": {},
   "outputs": [
    {
     "data": {
      "text/plain": [
       "'o'"
      ]
     },
     "execution_count": 15,
     "metadata": {},
     "output_type": "execute_result"
    }
   ],
   "source": [
    "greeting_string[4]"
   ]
  },
  {
   "cell_type": "code",
   "execution_count": 16,
   "id": "d5f878c8",
   "metadata": {},
   "outputs": [
    {
     "data": {
      "text/plain": [
       "'e'"
      ]
     },
     "execution_count": 16,
     "metadata": {},
     "output_type": "execute_result"
    }
   ],
   "source": [
    "greeting_string[1]"
   ]
  },
  {
   "cell_type": "code",
   "execution_count": 17,
   "id": "2accb716",
   "metadata": {},
   "outputs": [
    {
     "data": {
      "text/plain": [
       "56.8"
      ]
     },
     "execution_count": 17,
     "metadata": {},
     "output_type": "execute_result"
    }
   ],
   "source": [
    "person_tuple[2]"
   ]
  },
  {
   "cell_type": "code",
   "execution_count": 18,
   "id": "95c29edc",
   "metadata": {},
   "outputs": [
    {
     "data": {
      "text/plain": [
       "'Durgesh'"
      ]
     },
     "execution_count": 18,
     "metadata": {},
     "output_type": "execute_result"
    }
   ],
   "source": [
    "person_tuple[1]"
   ]
  },
  {
   "cell_type": "code",
   "execution_count": 19,
   "id": "08f5f13b",
   "metadata": {},
   "outputs": [
    {
     "data": {
      "text/plain": [
       "24"
      ]
     },
     "execution_count": 19,
     "metadata": {},
     "output_type": "execute_result"
    }
   ],
   "source": [
    "person_tuple[0]"
   ]
  },
  {
   "cell_type": "code",
   "execution_count": 20,
   "id": "d64b0e1e",
   "metadata": {},
   "outputs": [
    {
     "data": {
      "text/plain": [
       "56.8"
      ]
     },
     "execution_count": 20,
     "metadata": {},
     "output_type": "execute_result"
    }
   ],
   "source": [
    "person_tuple[-1]"
   ]
  },
  {
   "cell_type": "markdown",
   "id": "011b2d50",
   "metadata": {},
   "source": [
    "# add the sequence"
   ]
  },
  {
   "cell_type": "code",
   "execution_count": 21,
   "id": "051c967f",
   "metadata": {},
   "outputs": [
    {
     "data": {
      "text/plain": [
       "[1, 2, 3, 4, 1, 1.2, [1, 2]]"
      ]
     },
     "execution_count": 21,
     "metadata": {},
     "output_type": "execute_result"
    }
   ],
   "source": [
    "num_list+var_list"
   ]
  },
  {
   "cell_type": "code",
   "execution_count": 22,
   "id": "43998245",
   "metadata": {},
   "outputs": [],
   "source": [
    "a_string=\"Durgesh\""
   ]
  },
  {
   "cell_type": "code",
   "execution_count": 23,
   "id": "5668fa55",
   "metadata": {},
   "outputs": [
    {
     "data": {
      "text/plain": [
       "'helloDurgesh'"
      ]
     },
     "execution_count": 23,
     "metadata": {},
     "output_type": "execute_result"
    }
   ],
   "source": [
    "greeting_string + a_string"
   ]
  },
  {
   "cell_type": "markdown",
   "id": "3b511c4e",
   "metadata": {},
   "source": [
    "# length of string and list"
   ]
  },
  {
   "cell_type": "code",
   "execution_count": 24,
   "id": "8b1f599f",
   "metadata": {},
   "outputs": [
    {
     "data": {
      "text/plain": [
       "5"
      ]
     },
     "execution_count": 24,
     "metadata": {},
     "output_type": "execute_result"
    }
   ],
   "source": [
    "len(greeting_string)"
   ]
  },
  {
   "cell_type": "code",
   "execution_count": 25,
   "id": "c2b482e6",
   "metadata": {},
   "outputs": [
    {
     "data": {
      "text/plain": [
       "3"
      ]
     },
     "execution_count": 25,
     "metadata": {},
     "output_type": "execute_result"
    }
   ],
   "source": [
    "len(var_list)"
   ]
  },
  {
   "cell_type": "code",
   "execution_count": 26,
   "id": "c38f35e9",
   "metadata": {},
   "outputs": [
    {
     "data": {
      "text/plain": [
       "4"
      ]
     },
     "execution_count": 26,
     "metadata": {},
     "output_type": "execute_result"
    }
   ],
   "source": [
    "len(num_list)"
   ]
  },
  {
   "cell_type": "code",
   "execution_count": 27,
   "id": "e9052fcc",
   "metadata": {},
   "outputs": [
    {
     "data": {
      "text/plain": [
       "3"
      ]
     },
     "execution_count": 27,
     "metadata": {},
     "output_type": "execute_result"
    }
   ],
   "source": [
    "len(person_tuple)"
   ]
  },
  {
   "cell_type": "markdown",
   "id": "ed427721",
   "metadata": {},
   "source": [
    "# max and min"
   ]
  },
  {
   "cell_type": "code",
   "execution_count": 28,
   "id": "d5620080",
   "metadata": {},
   "outputs": [
    {
     "data": {
      "text/plain": [
       "4"
      ]
     },
     "execution_count": 28,
     "metadata": {},
     "output_type": "execute_result"
    }
   ],
   "source": [
    "max(num_list)"
   ]
  },
  {
   "cell_type": "code",
   "execution_count": 29,
   "id": "8662b494",
   "metadata": {},
   "outputs": [
    {
     "data": {
      "text/plain": [
       "1"
      ]
     },
     "execution_count": 29,
     "metadata": {},
     "output_type": "execute_result"
    }
   ],
   "source": [
    "min(num_list)"
   ]
  },
  {
   "cell_type": "code",
   "execution_count": 30,
   "id": "09863465",
   "metadata": {},
   "outputs": [
    {
     "data": {
      "text/plain": [
       "'o'"
      ]
     },
     "execution_count": 30,
     "metadata": {},
     "output_type": "execute_result"
    }
   ],
   "source": [
    "max(greeting_string)"
   ]
  },
  {
   "cell_type": "code",
   "execution_count": 31,
   "id": "e39b01f3",
   "metadata": {},
   "outputs": [
    {
     "data": {
      "text/plain": [
       "'e'"
      ]
     },
     "execution_count": 31,
     "metadata": {},
     "output_type": "execute_result"
    }
   ],
   "source": [
    "min(greeting_string)"
   ]
  },
  {
   "cell_type": "markdown",
   "id": "8483ccc2",
   "metadata": {},
   "source": [
    "# sum of the list"
   ]
  },
  {
   "cell_type": "code",
   "execution_count": 32,
   "id": "1ef9f4aa",
   "metadata": {},
   "outputs": [
    {
     "data": {
      "text/plain": [
       "10"
      ]
     },
     "execution_count": 32,
     "metadata": {},
     "output_type": "execute_result"
    }
   ],
   "source": [
    "sum(num_list)\n"
   ]
  },
  {
   "cell_type": "code",
   "execution_count": 38,
   "id": "c443c066",
   "metadata": {},
   "outputs": [],
   "source": [
    "num_list[1]=9"
   ]
  },
  {
   "cell_type": "code",
   "execution_count": 39,
   "id": "47a1c4c0",
   "metadata": {},
   "outputs": [
    {
     "data": {
      "text/plain": [
       "[1, 9, 3, 4]"
      ]
     },
     "execution_count": 39,
     "metadata": {},
     "output_type": "execute_result"
    }
   ],
   "source": [
    "num_list"
   ]
  },
  {
   "cell_type": "code",
   "execution_count": null,
   "id": "b4d4f3ca",
   "metadata": {},
   "outputs": [],
   "source": []
  }
 ],
 "metadata": {
  "kernelspec": {
   "display_name": "Python 3 (ipykernel)",
   "language": "python",
   "name": "python3"
  },
  "language_info": {
   "codemirror_mode": {
    "name": "ipython",
    "version": 3
   },
   "file_extension": ".py",
   "mimetype": "text/x-python",
   "name": "python",
   "nbconvert_exporter": "python",
   "pygments_lexer": "ipython3",
   "version": "3.11.5"
  }
 },
 "nbformat": 4,
 "nbformat_minor": 5
}
