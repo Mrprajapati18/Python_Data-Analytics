{
 "cells": [
  {
   "cell_type": "markdown",
   "id": "a34b656a",
   "metadata": {},
   "source": [
    "# Squre root"
   ]
  },
  {
   "cell_type": "code",
   "execution_count": 1,
   "id": "88396305",
   "metadata": {},
   "outputs": [],
   "source": [
    "numbers=[4,9,16,25,37]"
   ]
  },
  {
   "cell_type": "code",
   "execution_count": 13,
   "id": "afd901b4",
   "metadata": {},
   "outputs": [
    {
     "name": "stdout",
     "output_type": "stream",
     "text": [
      "sqrt of  4 is 2.0\n",
      "sqrt of  9 is 3.0\n",
      "sqrt of  16 is 4.0\n",
      "sqrt of  25 is 5.0\n",
      "sqrt of  37 is 6.082762530298219\n"
     ]
    }
   ],
   "source": [
    "numbers=[4,9,16,25,37]\n",
    "for num in numbers:\n",
    "    print(\"sqrt of \",num,\"is\",num**0.5)"
   ]
  },
  {
   "cell_type": "markdown",
   "id": "6b8b8d03",
   "metadata": {},
   "source": [
    "# Range function"
   ]
  },
  {
   "cell_type": "code",
   "execution_count": 12,
   "id": "511317ee",
   "metadata": {},
   "outputs": [
    {
     "name": "stdout",
     "output_type": "stream",
     "text": [
      "1 cube is 1\n",
      "2 cube is 8\n",
      "3 cube is 27\n",
      "4 cube is 64\n",
      "5 cube is 125\n",
      "6 cube is 216\n",
      "7 cube is 343\n",
      "8 cube is 512\n",
      "9 cube is 729\n",
      "10 cube is 1000\n"
     ]
    }
   ],
   "source": [
    "\n",
    "    for i in range(1,11):\n",
    "        print(i,\"cube is\",i**3)"
   ]
  },
  {
   "cell_type": "code",
   "execution_count": 6,
   "id": "80dd4e93",
   "metadata": {},
   "outputs": [
    {
     "name": "stdout",
     "output_type": "stream",
     "text": [
      "11 cube is 1331\n",
      "12 cube is 1728\n",
      "13 cube is 2197\n",
      "14 cube is 2744\n",
      "15 cube is 3375\n",
      "16 cube is 4096\n",
      "17 cube is 4913\n",
      "18 cube is 5832\n",
      "19 cube is 6859\n",
      "20 cube is 8000\n"
     ]
    }
   ],
   "source": [
    "for i in range(11, 21):\n",
    "    print(i, \"cube is\", i**3)\n"
   ]
  },
  {
   "cell_type": "code",
   "execution_count": null,
   "id": "8743e8be",
   "metadata": {},
   "outputs": [],
   "source": []
  }
 ],
 "metadata": {
  "kernelspec": {
   "display_name": "Python 3 (ipykernel)",
   "language": "python",
   "name": "python3"
  },
  "language_info": {
   "codemirror_mode": {
    "name": "ipython",
    "version": 3
   },
   "file_extension": ".py",
   "mimetype": "text/x-python",
   "name": "python",
   "nbconvert_exporter": "python",
   "pygments_lexer": "ipython3",
   "version": "3.11.5"
  }
 },
 "nbformat": 4,
 "nbformat_minor": 5
}
