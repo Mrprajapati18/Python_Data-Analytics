{
 "cells": [
  {
   "cell_type": "markdown",
   "id": "506bbaed",
   "metadata": {},
   "source": [
    "# libraries"
   ]
  },
  {
   "cell_type": "code",
   "execution_count": 1,
   "id": "f76f3bcc",
   "metadata": {},
   "outputs": [],
   "source": [
    "import numpy as np"
   ]
  },
  {
   "cell_type": "code",
   "execution_count": 2,
   "id": "c220913b",
   "metadata": {},
   "outputs": [],
   "source": [
    "durgeshlist=[\"Durgesh\",\"prashunshu\",100,1.0023]"
   ]
  },
  {
   "cell_type": "code",
   "execution_count": 3,
   "id": "c6334e91",
   "metadata": {},
   "outputs": [
    {
     "data": {
      "text/plain": [
       "list"
      ]
     },
     "execution_count": 3,
     "metadata": {},
     "output_type": "execute_result"
    }
   ],
   "source": [
    "type(durgeshlist)"
   ]
  },
  {
   "cell_type": "code",
   "execution_count": 4,
   "id": "7cb35eb5",
   "metadata": {},
   "outputs": [],
   "source": [
    "durgeshlistempty=[]"
   ]
  },
  {
   "cell_type": "code",
   "execution_count": 5,
   "id": "e0e3fb03",
   "metadata": {},
   "outputs": [],
   "source": [
    "variable = [\"item1\", \"item2\", \"item3\",\"item4\"]\n",
    "\n",
    "np_index = np.array([0, 1, 2, 3])\n",
    "negative_indices = np_index - len(variable)\n"
   ]
  },
  {
   "cell_type": "code",
   "execution_count": 6,
   "id": "b1df4058",
   "metadata": {},
   "outputs": [
    {
     "data": {
      "text/plain": [
       "'Durgesh'"
      ]
     },
     "execution_count": 6,
     "metadata": {},
     "output_type": "execute_result"
    }
   ],
   "source": [
    "durgeshlist[0]"
   ]
  },
  {
   "cell_type": "code",
   "execution_count": 7,
   "id": "bc2f81a8",
   "metadata": {},
   "outputs": [
    {
     "data": {
      "text/plain": [
       "1.0023"
      ]
     },
     "execution_count": 7,
     "metadata": {},
     "output_type": "execute_result"
    }
   ],
   "source": [
    "durgeshlist[3]"
   ]
  },
  {
   "cell_type": "code",
   "execution_count": 8,
   "id": "53152035",
   "metadata": {},
   "outputs": [
    {
     "data": {
      "text/plain": [
       "'prashunshu'"
      ]
     },
     "execution_count": 8,
     "metadata": {},
     "output_type": "execute_result"
    }
   ],
   "source": [
    "durgeshlist[1]"
   ]
  },
  {
   "cell_type": "markdown",
   "id": "12dfe9c6",
   "metadata": {},
   "source": [
    "# list in list"
   ]
  },
  {
   "cell_type": "code",
   "execution_count": 9,
   "id": "2c403fe0",
   "metadata": {},
   "outputs": [],
   "source": [
    "doublelist = ['a', ['b', 'c', 'd'], 'and',5]\n",
    "\n"
   ]
  },
  {
   "cell_type": "code",
   "execution_count": 10,
   "id": "f423665d",
   "metadata": {},
   "outputs": [
    {
     "data": {
      "text/plain": [
       "'a'"
      ]
     },
     "execution_count": 10,
     "metadata": {},
     "output_type": "execute_result"
    }
   ],
   "source": [
    "doublelist[0]"
   ]
  },
  {
   "cell_type": "code",
   "execution_count": 11,
   "id": "dc704a9d",
   "metadata": {},
   "outputs": [
    {
     "data": {
      "text/plain": [
       "['b', 'c', 'd']"
      ]
     },
     "execution_count": 11,
     "metadata": {},
     "output_type": "execute_result"
    }
   ],
   "source": [
    "doublelist[1]"
   ]
  },
  {
   "cell_type": "code",
   "execution_count": 12,
   "id": "0ff02aea",
   "metadata": {},
   "outputs": [
    {
     "data": {
      "text/plain": [
       "'and'"
      ]
     },
     "execution_count": 12,
     "metadata": {},
     "output_type": "execute_result"
    }
   ],
   "source": [
    "doublelist[2]"
   ]
  },
  {
   "cell_type": "code",
   "execution_count": 13,
   "id": "bd4c4092",
   "metadata": {},
   "outputs": [
    {
     "data": {
      "text/plain": [
       "5"
      ]
     },
     "execution_count": 13,
     "metadata": {},
     "output_type": "execute_result"
    }
   ],
   "source": [
    "doublelist[3]"
   ]
  },
  {
   "cell_type": "markdown",
   "id": "d601ef65",
   "metadata": {},
   "source": [
    "# Append function"
   ]
  },
  {
   "cell_type": "code",
   "execution_count": 14,
   "id": "e186e133",
   "metadata": {},
   "outputs": [],
   "source": [
    "doublelist.append(200)"
   ]
  },
  {
   "cell_type": "code",
   "execution_count": 15,
   "id": "cc2ad38b",
   "metadata": {},
   "outputs": [
    {
     "data": {
      "text/plain": [
       "['a', ['b', 'c', 'd'], 'and', 5, 200]"
      ]
     },
     "execution_count": 15,
     "metadata": {},
     "output_type": "execute_result"
    }
   ],
   "source": [
    "doublelist"
   ]
  },
  {
   "cell_type": "code",
   "execution_count": 16,
   "id": "f72cfd30",
   "metadata": {},
   "outputs": [],
   "source": [
    "doublelist.append(\"agagsh\")"
   ]
  },
  {
   "cell_type": "code",
   "execution_count": 17,
   "id": "1dd90c37",
   "metadata": {},
   "outputs": [
    {
     "data": {
      "text/plain": [
       "['a', ['b', 'c', 'd'], 'and', 5, 200, 'agagsh']"
      ]
     },
     "execution_count": 17,
     "metadata": {},
     "output_type": "execute_result"
    }
   ],
   "source": [
    "doublelist"
   ]
  },
  {
   "cell_type": "markdown",
   "id": "b641733b",
   "metadata": {},
   "source": [
    "# del function"
   ]
  },
  {
   "cell_type": "code",
   "execution_count": 20,
   "id": "cc42f23f",
   "metadata": {},
   "outputs": [
    {
     "data": {
      "text/plain": [
       "['a', ['b', 'c', 'd'], 'and', 5, 200, 'agagsh']"
      ]
     },
     "execution_count": 20,
     "metadata": {},
     "output_type": "execute_result"
    }
   ],
   "source": [
    "doublelist"
   ]
  },
  {
   "cell_type": "code",
   "execution_count": 23,
   "id": "df261c4d",
   "metadata": {},
   "outputs": [],
   "source": [
    "del doublelist[5]"
   ]
  },
  {
   "cell_type": "code",
   "execution_count": 24,
   "id": "ef327352",
   "metadata": {},
   "outputs": [
    {
     "data": {
      "text/plain": [
       "['a', ['b', 'c', 'd'], 'and', 5, 200]"
      ]
     },
     "execution_count": 24,
     "metadata": {},
     "output_type": "execute_result"
    }
   ],
   "source": [
    "doublelist"
   ]
  },
  {
   "cell_type": "code",
   "execution_count": 25,
   "id": "8eec9f9f",
   "metadata": {},
   "outputs": [],
   "source": [
    "del doublelist[1]"
   ]
  },
  {
   "cell_type": "code",
   "execution_count": 26,
   "id": "d35aae7e",
   "metadata": {},
   "outputs": [
    {
     "data": {
      "text/plain": [
       "['a', 'and', 5, 200]"
      ]
     },
     "execution_count": 26,
     "metadata": {},
     "output_type": "execute_result"
    }
   ],
   "source": [
    "doublelist"
   ]
  },
  {
   "cell_type": "markdown",
   "id": "82f2bdb1",
   "metadata": {},
   "source": [
    "# Remove function"
   ]
  },
  {
   "cell_type": "code",
   "execution_count": 27,
   "id": "555792ff",
   "metadata": {},
   "outputs": [],
   "source": [
    "durgeshlist=[\"Durgesh\",\"prashunshu\",100,1.0023]"
   ]
  },
  {
   "cell_type": "code",
   "execution_count": 28,
   "id": "8e4ab3b3",
   "metadata": {},
   "outputs": [
    {
     "data": {
      "text/plain": [
       "['Durgesh', 'prashunshu', 100, 1.0023]"
      ]
     },
     "execution_count": 28,
     "metadata": {},
     "output_type": "execute_result"
    }
   ],
   "source": [
    "durgeshlist"
   ]
  },
  {
   "cell_type": "code",
   "execution_count": 31,
   "id": "3df39f19",
   "metadata": {},
   "outputs": [],
   "source": [
    "durgeshlist.remove(\"Durgesh\")"
   ]
  },
  {
   "cell_type": "code",
   "execution_count": 32,
   "id": "862733ef",
   "metadata": {},
   "outputs": [
    {
     "data": {
      "text/plain": [
       "['prashunshu', 100, 1.0023]"
      ]
     },
     "execution_count": 32,
     "metadata": {},
     "output_type": "execute_result"
    }
   ],
   "source": [
    "durgeshlist"
   ]
  },
  {
   "cell_type": "code",
   "execution_count": 34,
   "id": "68e344dc",
   "metadata": {},
   "outputs": [
    {
     "ename": "TypeError",
     "evalue": "'builtin_function_or_method' object is not subscriptable",
     "output_type": "error",
     "traceback": [
      "\u001b[1;31m---------------------------------------------------------------------------\u001b[0m",
      "\u001b[1;31mTypeError\u001b[0m                                 Traceback (most recent call last)",
      "Cell \u001b[1;32mIn[34], line 1\u001b[0m\n\u001b[1;32m----> 1\u001b[0m doublelist\u001b[38;5;241m.\u001b[39mappend[\u001b[38;5;124m\"\u001b[39m\u001b[38;5;124mDurgesh\u001b[39m\u001b[38;5;124m\"\u001b[39m]\n",
      "\u001b[1;31mTypeError\u001b[0m: 'builtin_function_or_method' object is not subscriptable"
     ]
    }
   ],
   "source": [
    "doublelist.append\"Durgesh\""
   ]
  },
  {
   "cell_type": "code",
   "execution_count": null,
   "id": "8321b902",
   "metadata": {},
   "outputs": [],
   "source": []
  }
 ],
 "metadata": {
  "kernelspec": {
   "display_name": "Python 3 (ipykernel)",
   "language": "python",
   "name": "python3"
  },
  "language_info": {
   "codemirror_mode": {
    "name": "ipython",
    "version": 3
   },
   "file_extension": ".py",
   "mimetype": "text/x-python",
   "name": "python",
   "nbconvert_exporter": "python",
   "pygments_lexer": "ipython3",
   "version": "3.11.5"
  }
 },
 "nbformat": 4,
 "nbformat_minor": 5
}
