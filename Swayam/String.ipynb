{
 "cells": [
  {
   "cell_type": "code",
   "execution_count": 1,
   "id": "0464dade",
   "metadata": {},
   "outputs": [],
   "source": [
    "x=\"Hello\"\n",
    "y=\"World\"\n",
    "Z=x+\",\"+y+\"!\""
   ]
  },
  {
   "cell_type": "code",
   "execution_count": 3,
   "id": "6e6bbb27",
   "metadata": {},
   "outputs": [
    {
     "name": "stdout",
     "output_type": "stream",
     "text": [
      "Hello,World!\n"
     ]
    }
   ],
   "source": [
    "print(Z)"
   ]
  },
  {
   "cell_type": "code",
   "execution_count": 6,
   "id": "ae2d2b74",
   "metadata": {},
   "outputs": [
    {
     "data": {
      "text/plain": [
       "'HelloHelloHelloHelloHello'"
      ]
     },
     "execution_count": 6,
     "metadata": {},
     "output_type": "execute_result"
    }
   ],
   "source": [
    "x=\"Hello\"\n",
    "x*5"
   ]
  },
  {
   "cell_type": "code",
   "execution_count": 9,
   "id": "d2209ba6",
   "metadata": {},
   "outputs": [],
   "source": [
    "s= \"%%\"+\"-\"*20+\"%%\" # the 20 time hyphens"
   ]
  },
  {
   "cell_type": "code",
   "execution_count": 10,
   "id": "bd822098",
   "metadata": {},
   "outputs": [
    {
     "name": "stdout",
     "output_type": "stream",
     "text": [
      "%%--------------------%%\n"
     ]
    }
   ],
   "source": [
    "print(s)"
   ]
  },
  {
   "cell_type": "code",
   "execution_count": 11,
   "id": "4cac2cf8",
   "metadata": {},
   "outputs": [],
   "source": [
    "a= \"Hello,world!\""
   ]
  },
  {
   "cell_type": "code",
   "execution_count": 12,
   "id": "b559d8cc",
   "metadata": {},
   "outputs": [
    {
     "data": {
      "text/plain": [
       "'H'"
      ]
     },
     "execution_count": 12,
     "metadata": {},
     "output_type": "execute_result"
    }
   ],
   "source": [
    "a[0]"
   ]
  },
  {
   "cell_type": "code",
   "execution_count": 13,
   "id": "47d40b2f",
   "metadata": {},
   "outputs": [
    {
     "data": {
      "text/plain": [
       "','"
      ]
     },
     "execution_count": 13,
     "metadata": {},
     "output_type": "execute_result"
    }
   ],
   "source": [
    "a[5]"
   ]
  },
  {
   "cell_type": "code",
   "execution_count": 14,
   "id": "019273a3",
   "metadata": {},
   "outputs": [
    {
     "data": {
      "text/plain": [
       "'e'"
      ]
     },
     "execution_count": 14,
     "metadata": {},
     "output_type": "execute_result"
    }
   ],
   "source": [
    "a[1]"
   ]
  },
  {
   "cell_type": "code",
   "execution_count": 15,
   "id": "ee7c2481",
   "metadata": {},
   "outputs": [
    {
     "data": {
      "text/plain": [
       "'l'"
      ]
     },
     "execution_count": 15,
     "metadata": {},
     "output_type": "execute_result"
    }
   ],
   "source": [
    "a[-3]"
   ]
  },
  {
   "cell_type": "code",
   "execution_count": 16,
   "id": "1d9ee68c",
   "metadata": {},
   "outputs": [
    {
     "data": {
      "text/plain": [
       "'!'"
      ]
     },
     "execution_count": 16,
     "metadata": {},
     "output_type": "execute_result"
    }
   ],
   "source": [
    "a[-1]"
   ]
  },
  {
   "cell_type": "markdown",
   "id": "efa59060",
   "metadata": {},
   "source": [
    "# Split ()and join function()"
   ]
  },
  {
   "cell_type": "markdown",
   "id": "a4a43aae",
   "metadata": {},
   "source": [
    "# join function"
   ]
  },
  {
   "cell_type": "code",
   "execution_count": 18,
   "id": "a6f45c5e",
   "metadata": {},
   "outputs": [
    {
     "name": "stdout",
     "output_type": "stream",
     "text": [
      "a-b-c\n"
     ]
    }
   ],
   "source": [
    "s=\"-\"\n",
    "seq=('a','b','c')\n",
    "print(s.join(seq))#syntex str.join(sequence)"
   ]
  },
  {
   "cell_type": "markdown",
   "id": "12c91443",
   "metadata": {},
   "source": [
    "# Split function()"
   ]
  },
  {
   "cell_type": "code",
   "execution_count": 23,
   "id": "d34b91d1",
   "metadata": {},
   "outputs": [
    {
     "name": "stdout",
     "output_type": "stream",
     "text": [
      "['line1-abc', 'line2-abc', 'line3-abc']\n"
     ]
    }
   ],
   "source": [
    "str=\"line1-abc \\nline2-abc \\nline3-abc\"\n",
    "print(str.split())"
   ]
  },
  {
   "cell_type": "code",
   "execution_count": null,
   "id": "06b78a2a",
   "metadata": {},
   "outputs": [],
   "source": []
  }
 ],
 "metadata": {
  "kernelspec": {
   "display_name": "Python 3 (ipykernel)",
   "language": "python",
   "name": "python3"
  },
  "language_info": {
   "codemirror_mode": {
    "name": "ipython",
    "version": 3
   },
   "file_extension": ".py",
   "mimetype": "text/x-python",
   "name": "python",
   "nbconvert_exporter": "python",
   "pygments_lexer": "ipython3",
   "version": "3.11.5"
  }
 },
 "nbformat": 4,
 "nbformat_minor": 5
}
