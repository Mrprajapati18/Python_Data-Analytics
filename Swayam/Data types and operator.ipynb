{
 "cells": [
  {
   "cell_type": "markdown",
   "id": "d8a6ecd5",
   "metadata": {},
   "source": [
    "# number data type"
   ]
  },
  {
   "cell_type": "code",
   "execution_count": 5,
   "id": "ca7f91af",
   "metadata": {},
   "outputs": [],
   "source": [
    "a=13"
   ]
  },
  {
   "cell_type": "code",
   "execution_count": 6,
   "id": "a584fe46",
   "metadata": {},
   "outputs": [
    {
     "data": {
      "text/plain": [
       "13"
      ]
     },
     "execution_count": 6,
     "metadata": {},
     "output_type": "execute_result"
    }
   ],
   "source": [
    "a"
   ]
  },
  {
   "cell_type": "code",
   "execution_count": 7,
   "id": "5dc5afb3",
   "metadata": {},
   "outputs": [
    {
     "data": {
      "text/plain": [
       "int"
      ]
     },
     "execution_count": 7,
     "metadata": {},
     "output_type": "execute_result"
    }
   ],
   "source": [
    "type(a)"
   ]
  },
  {
   "cell_type": "code",
   "execution_count": 9,
   "id": "81d7b988",
   "metadata": {},
   "outputs": [],
   "source": [
    "b=99999999999999999999999999"
   ]
  },
  {
   "cell_type": "code",
   "execution_count": 10,
   "id": "30f04fc5",
   "metadata": {},
   "outputs": [
    {
     "data": {
      "text/plain": [
       "99999999999999999999999999"
      ]
     },
     "execution_count": 10,
     "metadata": {},
     "output_type": "execute_result"
    }
   ],
   "source": [
    "b"
   ]
  },
  {
   "cell_type": "code",
   "execution_count": 11,
   "id": "c8b266e3",
   "metadata": {},
   "outputs": [
    {
     "data": {
      "text/plain": [
       "int"
      ]
     },
     "execution_count": 11,
     "metadata": {},
     "output_type": "execute_result"
    }
   ],
   "source": [
    "type(b)"
   ]
  },
  {
   "cell_type": "code",
   "execution_count": 12,
   "id": "310a638d",
   "metadata": {},
   "outputs": [],
   "source": [
    "p=3.148975"
   ]
  },
  {
   "cell_type": "code",
   "execution_count": 15,
   "id": "c190c1f1",
   "metadata": {},
   "outputs": [
    {
     "name": "stdout",
     "output_type": "stream",
     "text": [
      "3.148975\n"
     ]
    }
   ],
   "source": [
    "print(p)"
   ]
  },
  {
   "cell_type": "code",
   "execution_count": 16,
   "id": "d94878ab",
   "metadata": {},
   "outputs": [
    {
     "data": {
      "text/plain": [
       "float"
      ]
     },
     "execution_count": 16,
     "metadata": {},
     "output_type": "execute_result"
    }
   ],
   "source": [
    "type(p)"
   ]
  },
  {
   "cell_type": "code",
   "execution_count": 17,
   "id": "d3060fba",
   "metadata": {},
   "outputs": [],
   "source": [
    "c=3.4+4.3j"
   ]
  },
  {
   "cell_type": "code",
   "execution_count": 18,
   "id": "ce8479a0",
   "metadata": {},
   "outputs": [
    {
     "data": {
      "text/plain": [
       "complex"
      ]
     },
     "execution_count": 18,
     "metadata": {},
     "output_type": "execute_result"
    }
   ],
   "source": [
    "type(c)"
   ]
  },
  {
   "cell_type": "code",
   "execution_count": 20,
   "id": "871e7d7e",
   "metadata": {},
   "outputs": [
    {
     "data": {
      "text/plain": [
       "3.4"
      ]
     },
     "execution_count": 20,
     "metadata": {},
     "output_type": "execute_result"
    }
   ],
   "source": [
    "c.real"
   ]
  },
  {
   "cell_type": "code",
   "execution_count": 21,
   "id": "7f857de9",
   "metadata": {},
   "outputs": [
    {
     "data": {
      "text/plain": [
       "4.3"
      ]
     },
     "execution_count": 21,
     "metadata": {},
     "output_type": "execute_result"
    }
   ],
   "source": [
    "c.imag"
   ]
  },
  {
   "cell_type": "code",
   "execution_count": 22,
   "id": "88db2464",
   "metadata": {},
   "outputs": [
    {
     "data": {
      "text/plain": [
       "5.481788029466298"
      ]
     },
     "execution_count": 22,
     "metadata": {},
     "output_type": "execute_result"
    }
   ],
   "source": [
    "abs(c)"
   ]
  },
  {
   "cell_type": "markdown",
   "id": "2077412d",
   "metadata": {},
   "source": [
    "# boolean data tpye"
   ]
  },
  {
   "cell_type": "code",
   "execution_count": 26,
   "id": "08da69e4",
   "metadata": {},
   "outputs": [],
   "source": [
    "t = True"
   ]
  },
  {
   "cell_type": "code",
   "execution_count": 27,
   "id": "f88a6a99",
   "metadata": {},
   "outputs": [
    {
     "data": {
      "text/plain": [
       "True"
      ]
     },
     "execution_count": 27,
     "metadata": {},
     "output_type": "execute_result"
    }
   ],
   "source": [
    "t"
   ]
  },
  {
   "cell_type": "code",
   "execution_count": 28,
   "id": "ff5a7330",
   "metadata": {},
   "outputs": [],
   "source": [
    "f=not  t"
   ]
  },
  {
   "cell_type": "code",
   "execution_count": 29,
   "id": "ae23d7ec",
   "metadata": {},
   "outputs": [
    {
     "data": {
      "text/plain": [
       "False"
      ]
     },
     "execution_count": 29,
     "metadata": {},
     "output_type": "execute_result"
    }
   ],
   "source": [
    "f"
   ]
  },
  {
   "cell_type": "code",
   "execution_count": 30,
   "id": "27118e4f",
   "metadata": {},
   "outputs": [
    {
     "data": {
      "text/plain": [
       "True"
      ]
     },
     "execution_count": 30,
     "metadata": {},
     "output_type": "execute_result"
    }
   ],
   "source": [
    "f or t"
   ]
  },
  {
   "cell_type": "code",
   "execution_count": 31,
   "id": "00983c85",
   "metadata": {},
   "outputs": [
    {
     "data": {
      "text/plain": [
       "False"
      ]
     },
     "execution_count": 31,
     "metadata": {},
     "output_type": "execute_result"
    }
   ],
   "source": [
    "f and t"
   ]
  },
  {
   "cell_type": "markdown",
   "id": "8aec55a3",
   "metadata": {},
   "source": [
    "# precidence"
   ]
  },
  {
   "cell_type": "code",
   "execution_count": 34,
   "id": "02fdb9fe",
   "metadata": {},
   "outputs": [],
   "source": [
    "a = False\n",
    "b= True\n",
    "c= True"
   ]
  },
  {
   "cell_type": "code",
   "execution_count": 35,
   "id": "0b7c0cb5",
   "metadata": {},
   "outputs": [
    {
     "data": {
      "text/plain": [
       "True"
      ]
     },
     "execution_count": 35,
     "metadata": {},
     "output_type": "execute_result"
    }
   ],
   "source": [
    "(a and b) or c"
   ]
  },
  {
   "cell_type": "code",
   "execution_count": 36,
   "id": "c9d27767",
   "metadata": {},
   "outputs": [
    {
     "data": {
      "text/plain": [
       "False"
      ]
     },
     "execution_count": 36,
     "metadata": {},
     "output_type": "execute_result"
    }
   ],
   "source": [
    "a and(b or c)"
   ]
  },
  {
   "cell_type": "markdown",
   "id": "9fe7e633",
   "metadata": {},
   "source": [
    "# Arithmetic oprator"
   ]
  },
  {
   "cell_type": "code",
   "execution_count": 37,
   "id": "9d18bf1a",
   "metadata": {},
   "outputs": [
    {
     "data": {
      "text/plain": [
       "68"
      ]
     },
     "execution_count": 37,
     "metadata": {},
     "output_type": "execute_result"
    }
   ],
   "source": [
    "23+45"
   ]
  },
  {
   "cell_type": "code",
   "execution_count": 38,
   "id": "68a2e340",
   "metadata": {},
   "outputs": [
    {
     "data": {
      "text/plain": [
       "-11"
      ]
     },
     "execution_count": 38,
     "metadata": {},
     "output_type": "execute_result"
    }
   ],
   "source": [
    "56-67"
   ]
  },
  {
   "cell_type": "code",
   "execution_count": 39,
   "id": "296d69d3",
   "metadata": {},
   "outputs": [
    {
     "data": {
      "text/plain": [
       "3015"
      ]
     },
     "execution_count": 39,
     "metadata": {},
     "output_type": "execute_result"
    }
   ],
   "source": [
    "45*67"
   ]
  },
  {
   "cell_type": "code",
   "execution_count": 42,
   "id": "a513c4a3",
   "metadata": {},
   "outputs": [
    {
     "data": {
      "text/plain": [
       "24.47826086956522"
      ]
     },
     "execution_count": 42,
     "metadata": {},
     "output_type": "execute_result"
    }
   ],
   "source": [
    "563/23"
   ]
  },
  {
   "cell_type": "code",
   "execution_count": 44,
   "id": "9f7492f5",
   "metadata": {},
   "outputs": [
    {
     "data": {
      "text/plain": [
       "21"
      ]
     },
     "execution_count": 44,
     "metadata": {},
     "output_type": "execute_result"
    }
   ],
   "source": [
    "357%56"
   ]
  },
  {
   "cell_type": "code",
   "execution_count": 45,
   "id": "220a6162",
   "metadata": {},
   "outputs": [
    {
     "data": {
      "text/plain": [
       "5764801"
      ]
     },
     "execution_count": 45,
     "metadata": {},
     "output_type": "execute_result"
    }
   ],
   "source": [
    "7**8"
   ]
  },
  {
   "cell_type": "code",
   "execution_count": 46,
   "id": "6f5641b8",
   "metadata": {},
   "outputs": [],
   "source": [
    "a=73"
   ]
  },
  {
   "cell_type": "code",
   "execution_count": 49,
   "id": "97f80189",
   "metadata": {},
   "outputs": [
    {
     "data": {
      "text/plain": [
       "2482"
      ]
     },
     "execution_count": 49,
     "metadata": {},
     "output_type": "execute_result"
    }
   ],
   "source": [
    "a*34"
   ]
  },
  {
   "cell_type": "code",
   "execution_count": 50,
   "id": "d2458f14",
   "metadata": {},
   "outputs": [],
   "source": [
    "a=a*34"
   ]
  },
  {
   "cell_type": "code",
   "execution_count": 51,
   "id": "8349cc6d",
   "metadata": {},
   "outputs": [
    {
     "data": {
      "text/plain": [
       "2482"
      ]
     },
     "execution_count": 51,
     "metadata": {},
     "output_type": "execute_result"
    }
   ],
   "source": [
    "a"
   ]
  },
  {
   "cell_type": "markdown",
   "id": "32f56835",
   "metadata": {},
   "source": [
    "# Exercise 1 \n",
    "find the squre root of 3 using python"
   ]
  },
  {
   "cell_type": "code",
   "execution_count": 52,
   "id": "e5cd800f",
   "metadata": {},
   "outputs": [
    {
     "data": {
      "text/plain": [
       "1.7320508075688772"
      ]
     },
     "execution_count": 52,
     "metadata": {},
     "output_type": "execute_result"
    }
   ],
   "source": [
    "3**0.5"
   ]
  },
  {
   "cell_type": "code",
   "execution_count": 53,
   "id": "c9e6c190",
   "metadata": {},
   "outputs": [
    {
     "data": {
      "text/plain": [
       "1.5"
      ]
     },
     "execution_count": 53,
     "metadata": {},
     "output_type": "execute_result"
    }
   ],
   "source": [
    "3*(1/2)"
   ]
  },
  {
   "cell_type": "code",
   "execution_count": 54,
   "id": "aa512a37",
   "metadata": {},
   "outputs": [
    {
     "data": {
      "text/plain": [
       "1.7320508075688772"
      ]
     },
     "execution_count": 54,
     "metadata": {},
     "output_type": "execute_result"
    }
   ],
   "source": [
    "3**(1/2)"
   ]
  },
  {
   "cell_type": "code",
   "execution_count": null,
   "id": "aacc7fe2",
   "metadata": {},
   "outputs": [],
   "source": []
  }
 ],
 "metadata": {
  "kernelspec": {
   "display_name": "Python 3 (ipykernel)",
   "language": "python",
   "name": "python3"
  },
  "language_info": {
   "codemirror_mode": {
    "name": "ipython",
    "version": 3
   },
   "file_extension": ".py",
   "mimetype": "text/x-python",
   "name": "python",
   "nbconvert_exporter": "python",
   "pygments_lexer": "ipython3",
   "version": "3.11.5"
  }
 },
 "nbformat": 4,
 "nbformat_minor": 5
}
