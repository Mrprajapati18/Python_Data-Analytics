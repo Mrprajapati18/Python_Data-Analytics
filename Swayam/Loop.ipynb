{
 "cells": [
  {
   "cell_type": "markdown",
   "id": "d8edba6e",
   "metadata": {},
   "source": [
    "# while loop"
   ]
  },
  {
   "cell_type": "code",
   "execution_count": 1,
   "id": "0163a718",
   "metadata": {},
   "outputs": [
    {
     "name": "stdout",
     "output_type": "stream",
     "text": [
      "1\n",
      "9\n",
      "25\n",
      "49\n",
      "81\n"
     ]
    }
   ],
   "source": [
    "i=1\n",
    "while i<10:\n",
    "    print(i*i)\n",
    "    i+=2"
   ]
  },
  {
   "cell_type": "code",
   "execution_count": 2,
   "id": "a8b3d2c5",
   "metadata": {},
   "outputs": [
    {
     "name": "stdout",
     "output_type": "stream",
     "text": [
      "9\n",
      "36\n",
      "81\n",
      "144\n",
      "225\n",
      "324\n",
      "441\n",
      "576\n",
      "729\n"
     ]
    }
   ],
   "source": [
    "p=3\n",
    "while p<30:\n",
    "    print(p*p)\n",
    "    p+=3"
   ]
  },
  {
   "cell_type": "code",
   "execution_count": 3,
   "id": "fb034703",
   "metadata": {},
   "outputs": [
    {
     "name": "stdout",
     "output_type": "stream",
     "text": [
      "4\n",
      "16\n",
      "36\n",
      "64\n",
      "100\n",
      "144\n",
      "196\n",
      "256\n",
      "324\n",
      "400\n",
      "484\n",
      "576\n",
      "676\n",
      "784\n",
      "900\n",
      "1024\n",
      "1156\n",
      "1296\n",
      "1444\n"
     ]
    }
   ],
   "source": [
    "z=2\n",
    "while z<40:\n",
    "    print(z*z)\n",
    "    z+=2\n"
   ]
  },
  {
   "cell_type": "markdown",
   "id": "922ad009",
   "metadata": {},
   "source": [
    "# for loop"
   ]
  },
  {
   "cell_type": "code",
   "execution_count": 4,
   "id": "63b6a57a",
   "metadata": {},
   "outputs": [
    {
     "name": "stdout",
     "output_type": "stream",
     "text": [
      "1\n",
      "9\n",
      "25\n",
      "49\n",
      "81\n"
     ]
    }
   ],
   "source": [
    "for n in range (1,10,2):\n",
    "    print(n*n)"
   ]
  },
  {
   "cell_type": "markdown",
   "id": "1395812b",
   "metadata": {},
   "source": [
    "# Assignment 1\n",
    "Write the while loop to print the squre of all the even number below 10"
   ]
  },
  {
   "cell_type": "code",
   "execution_count": 5,
   "id": "bdd16d4e",
   "metadata": {},
   "outputs": [
    {
     "name": "stdout",
     "output_type": "stream",
     "text": [
      "4\n",
      "16\n",
      "36\n",
      "64\n"
     ]
    }
   ],
   "source": [
    "n=2\n",
    "while n<10:\n",
    "    print(n*n)\n",
    "    n+=2\n",
    "    "
   ]
  },
  {
   "cell_type": "markdown",
   "id": "3f288261",
   "metadata": {},
   "source": [
    "# Assignment 2\n",
    "write the for loop to print the squre of all the even  number below 10"
   ]
  },
  {
   "cell_type": "code",
   "execution_count": 6,
   "id": "d06bd47d",
   "metadata": {},
   "outputs": [
    {
     "name": "stdout",
     "output_type": "stream",
     "text": [
      "4\n",
      "16\n",
      "36\n",
      "64\n"
     ]
    }
   ],
   "source": [
    "for n in range(2,10,2):\n",
    " print(n*n)"
   ]
  },
  {
   "cell_type": "markdown",
   "id": "8b436a11",
   "metadata": {},
   "source": [
    "# Break statement"
   ]
  },
  {
   "cell_type": "code",
   "execution_count": 7,
   "id": "1dc767d7",
   "metadata": {},
   "outputs": [],
   "source": [
    "for n in range(2,10,2):\n",
    "    pass"
   ]
  },
  {
   "cell_type": "code",
   "execution_count": 8,
   "id": "7ef1c63f",
   "metadata": {},
   "outputs": [
    {
     "name": "stdout",
     "output_type": "stream",
     "text": [
      "current  latter : p\n",
      "current  latter : y\n",
      "current  latter : t\n"
     ]
    }
   ],
   "source": [
    "for latter in 'python':\n",
    "    if  latter == 'h':\n",
    "        break\n",
    "    print('current  latter :', latter)"
   ]
  },
  {
   "cell_type": "markdown",
   "id": "45ca6b01",
   "metadata": {},
   "source": [
    "# Continue statement"
   ]
  },
  {
   "cell_type": "code",
   "execution_count": 11,
   "id": "7347f1bc",
   "metadata": {},
   "outputs": [
    {
     "name": "stdout",
     "output_type": "stream",
     "text": [
      "1\n",
      "25\n",
      "49\n"
     ]
    }
   ],
   "source": [
    "for n in range(1, 10, 2):\n",
    "    if n % 3 == 0:\n",
    "        continue\n",
    "    print(n * n)\n"
   ]
  },
  {
   "cell_type": "markdown",
   "id": "0d7f4684",
   "metadata": {},
   "source": [
    "# Assignment 3"
   ]
  },
  {
   "cell_type": "code",
   "execution_count": 18,
   "id": "58603324",
   "metadata": {},
   "outputs": [],
   "source": [
    "#Given number range(1,4), write a code only the number 1\n",
    "# which statement you use to  skip the ittretions"
   ]
  },
  {
   "cell_type": "code",
   "execution_count": 19,
   "id": "e40de666",
   "metadata": {},
   "outputs": [
    {
     "name": "stdout",
     "output_type": "stream",
     "text": [
      "1\n"
     ]
    }
   ],
   "source": [
    "for n in range(1,4):\n",
    "    print(n)\n",
    "    break"
   ]
  },
  {
   "cell_type": "code",
   "execution_count": 20,
   "id": "6835134e",
   "metadata": {},
   "outputs": [],
   "source": [
    "for n in range(1,4):\n",
    "    pass"
   ]
  },
  {
   "cell_type": "code",
   "execution_count": 21,
   "id": "1ca43242",
   "metadata": {},
   "outputs": [
    {
     "name": "stdout",
     "output_type": "stream",
     "text": [
      "1\n",
      "2\n",
      "3\n"
     ]
    }
   ],
   "source": [
    "for n in range(1,4):\n",
    "    print(n)\n",
    "    continue"
   ]
  },
  {
   "cell_type": "code",
   "execution_count": null,
   "id": "e5aff95f",
   "metadata": {},
   "outputs": [],
   "source": []
  }
 ],
 "metadata": {
  "kernelspec": {
   "display_name": "Python 3 (ipykernel)",
   "language": "python",
   "name": "python3"
  },
  "language_info": {
   "codemirror_mode": {
    "name": "ipython",
    "version": 3
   },
   "file_extension": ".py",
   "mimetype": "text/x-python",
   "name": "python",
   "nbconvert_exporter": "python",
   "pygments_lexer": "ipython3",
   "version": "3.11.5"
  }
 },
 "nbformat": 4,
 "nbformat_minor": 5
}
