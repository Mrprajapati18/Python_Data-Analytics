{
 "cells": [
  {
   "cell_type": "code",
   "execution_count": 1,
   "id": "f41a0119",
   "metadata": {},
   "outputs": [],
   "source": [
    "from numpy import asmatrix,arange"
   ]
  },
  {
   "cell_type": "code",
   "execution_count": 2,
   "id": "0e14b0fc",
   "metadata": {},
   "outputs": [],
   "source": [
    "a= asmatrix(arange(1,10).reshape(3,3))"
   ]
  },
  {
   "cell_type": "code",
   "execution_count": 3,
   "id": "25cb7bc6",
   "metadata": {},
   "outputs": [
    {
     "data": {
      "text/plain": [
       "matrix([[1, 2, 3],\n",
       "        [4, 5, 6],\n",
       "        [7, 8, 9]])"
      ]
     },
     "execution_count": 3,
     "metadata": {},
     "output_type": "execute_result"
    }
   ],
   "source": [
    "a"
   ]
  },
  {
   "cell_type": "markdown",
   "id": "3304a9dc",
   "metadata": {},
   "source": [
    "# Flatten (is convert one dimension matrix)"
   ]
  },
  {
   "cell_type": "code",
   "execution_count": 4,
   "id": "0e1b3c56",
   "metadata": {},
   "outputs": [
    {
     "data": {
      "text/plain": [
       "matrix([[1, 2, 3, 4, 5, 6, 7, 8, 9]])"
      ]
     },
     "execution_count": 4,
     "metadata": {},
     "output_type": "execute_result"
    }
   ],
   "source": [
    "a.flatten()"
   ]
  },
  {
   "cell_type": "markdown",
   "id": "30f7f90c",
   "metadata": {},
   "source": [
    "# Frobenious norm of a matrix"
   ]
  },
  {
   "cell_type": "code",
   "execution_count": 5,
   "id": "918eed5e",
   "metadata": {},
   "outputs": [],
   "source": [
    "m=asmatrix(arange(1,17).reshape(4,4))"
   ]
  },
  {
   "cell_type": "code",
   "execution_count": 6,
   "id": "5ef48d55",
   "metadata": {},
   "outputs": [
    {
     "data": {
      "text/plain": [
       "matrix([[ 1,  2,  3,  4],\n",
       "        [ 5,  6,  7,  8],\n",
       "        [ 9, 10, 11, 12],\n",
       "        [13, 14, 15, 16]])"
      ]
     },
     "execution_count": 6,
     "metadata": {},
     "output_type": "execute_result"
    }
   ],
   "source": [
    "m"
   ]
  },
  {
   "cell_type": "code",
   "execution_count": 9,
   "id": "4fb89da2",
   "metadata": {},
   "outputs": [],
   "source": [
    "m[0,1] = 0\n",
    "m[1,3] = 0"
   ]
  },
  {
   "cell_type": "code",
   "execution_count": 10,
   "id": "58a479b8",
   "metadata": {},
   "outputs": [
    {
     "data": {
      "text/plain": [
       "matrix([[ 1,  0,  3,  4],\n",
       "        [ 5,  6,  7,  0],\n",
       "        [ 9, 10, 11, 12],\n",
       "        [13, 14, 15, 16]])"
      ]
     },
     "execution_count": 10,
     "metadata": {},
     "output_type": "execute_result"
    }
   ],
   "source": [
    "m"
   ]
  },
  {
   "cell_type": "code",
   "execution_count": null,
   "id": "48872748",
   "metadata": {},
   "outputs": [],
   "source": []
  }
 ],
 "metadata": {
  "kernelspec": {
   "display_name": "Python 3 (ipykernel)",
   "language": "python",
   "name": "python3"
  },
  "language_info": {
   "codemirror_mode": {
    "name": "ipython",
    "version": 3
   },
   "file_extension": ".py",
   "mimetype": "text/x-python",
   "name": "python",
   "nbconvert_exporter": "python",
   "pygments_lexer": "ipython3",
   "version": "3.11.5"
  }
 },
 "nbformat": 4,
 "nbformat_minor": 5
}
