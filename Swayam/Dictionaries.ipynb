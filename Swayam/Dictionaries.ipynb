{
 "cells": [
  {
   "cell_type": "code",
   "execution_count": 1,
   "id": "2f133cf6",
   "metadata": {},
   "outputs": [],
   "source": [
    " #curly bracket is defined a dictionaries"
   ]
  },
  {
   "cell_type": "code",
   "execution_count": 3,
   "id": "16ce00e1",
   "metadata": {},
   "outputs": [],
   "source": [
    "empty = {}\n",
    "student = {'name': 'raj',\n",
    "           'age': 19,\n",
    "           'gender': 'male',\n",
    "           'class': 10}"
   ]
  },
  {
   "cell_type": "code",
   "execution_count": 4,
   "id": "db57e519",
   "metadata": {},
   "outputs": [
    {
     "name": "stdout",
     "output_type": "stream",
     "text": [
      "{'name': 'raj', 'age': 19, 'gender': 'male', 'class': 10}\n"
     ]
    }
   ],
   "source": [
    "print(student)"
   ]
  },
  {
   "cell_type": "code",
   "execution_count": 5,
   "id": "0b8800e0",
   "metadata": {},
   "outputs": [
    {
     "data": {
      "text/plain": [
       "{'name': 'raj', 'age': 19, 'gender': 'male', 'class': 10}"
      ]
     },
     "execution_count": 5,
     "metadata": {},
     "output_type": "execute_result"
    }
   ],
   "source": [
    "student"
   ]
  },
  {
   "cell_type": "code",
   "execution_count": 7,
   "id": "a7ff6bfa",
   "metadata": {},
   "outputs": [
    {
     "name": "stdout",
     "output_type": "stream",
     "text": [
      "raj\n"
     ]
    }
   ],
   "source": [
    "print(student['name'])  #syntex dictinaries_name[keys]"
   ]
  },
  {
   "cell_type": "code",
   "execution_count": 8,
   "id": "0b5f0301",
   "metadata": {},
   "outputs": [
    {
     "name": "stdout",
     "output_type": "stream",
     "text": [
      "10\n"
     ]
    }
   ],
   "source": [
    "print(student['class'])"
   ]
  },
  {
   "cell_type": "markdown",
   "id": "af8091d6",
   "metadata": {},
   "source": [
    "# Add dictionaries"
   ]
  },
  {
   "cell_type": "code",
   "execution_count": 9,
   "id": "bc64c3f9",
   "metadata": {},
   "outputs": [],
   "source": [
    "student['height'] = 6.2"
   ]
  },
  {
   "cell_type": "code",
   "execution_count": 10,
   "id": "285aca39",
   "metadata": {},
   "outputs": [
    {
     "data": {
      "text/plain": [
       "{'name': 'raj', 'age': 19, 'gender': 'male', 'class': 10, 'height': 6.2}"
      ]
     },
     "execution_count": 10,
     "metadata": {},
     "output_type": "execute_result"
    }
   ],
   "source": [
    "student"
   ]
  },
  {
   "cell_type": "markdown",
   "id": "87f0545f",
   "metadata": {},
   "source": [
    "# update the dictionaries"
   ]
  },
  {
   "cell_type": "code",
   "execution_count": 13,
   "id": "febeec5e",
   "metadata": {},
   "outputs": [],
   "source": [
    "student['class']=11"
   ]
  },
  {
   "cell_type": "code",
   "execution_count": 14,
   "id": "fefb50cb",
   "metadata": {},
   "outputs": [
    {
     "data": {
      "text/plain": [
       "{'name': 'raj', 'age': 19, 'gender': 'male', 'class': 11, 'height': 6.2}"
      ]
     },
     "execution_count": 14,
     "metadata": {},
     "output_type": "execute_result"
    }
   ],
   "source": [
    "student"
   ]
  },
  {
   "cell_type": "markdown",
   "id": "71d1c433",
   "metadata": {},
   "source": [
    "# delete from dictionaries "
   ]
  },
  {
   "cell_type": "code",
   "execution_count": 15,
   "id": "6afac1ae",
   "metadata": {},
   "outputs": [],
   "source": [
    "del student['age']"
   ]
  },
  {
   "cell_type": "code",
   "execution_count": 16,
   "id": "a7f83daf",
   "metadata": {},
   "outputs": [
    {
     "data": {
      "text/plain": [
       "{'name': 'raj', 'gender': 'male', 'class': 11, 'height': 6.2}"
      ]
     },
     "execution_count": 16,
     "metadata": {},
     "output_type": "execute_result"
    }
   ],
   "source": [
    "student"
   ]
  },
  {
   "cell_type": "markdown",
   "id": "7395ad9c",
   "metadata": {},
   "source": [
    "# using in method"
   ]
  },
  {
   "cell_type": "code",
   "execution_count": 17,
   "id": "9b6bc124",
   "metadata": {},
   "outputs": [
    {
     "data": {
      "text/plain": [
       "False"
      ]
     },
     "execution_count": 17,
     "metadata": {},
     "output_type": "execute_result"
    }
   ],
   "source": [
    "'school' in student"
   ]
  },
  {
   "cell_type": "code",
   "execution_count": 18,
   "id": "2840048c",
   "metadata": {},
   "outputs": [
    {
     "data": {
      "text/plain": [
       "False"
      ]
     },
     "execution_count": 18,
     "metadata": {},
     "output_type": "execute_result"
    }
   ],
   "source": [
    "'age' in student"
   ]
  },
  {
   "cell_type": "code",
   "execution_count": 19,
   "id": "bc95d9c8",
   "metadata": {},
   "outputs": [
    {
     "data": {
      "text/plain": [
       "True"
      ]
     },
     "execution_count": 19,
     "metadata": {},
     "output_type": "execute_result"
    }
   ],
   "source": [
    "'gender' in student"
   ]
  },
  {
   "cell_type": "code",
   "execution_count": 20,
   "id": "30c44013",
   "metadata": {},
   "outputs": [
    {
     "data": {
      "text/plain": [
       "dict_keys(['name', 'gender', 'class', 'height'])"
      ]
     },
     "execution_count": 20,
     "metadata": {},
     "output_type": "execute_result"
    }
   ],
   "source": [
    "student.keys()"
   ]
  },
  {
   "cell_type": "code",
   "execution_count": 22,
   "id": "17eccbc6",
   "metadata": {},
   "outputs": [
    {
     "data": {
      "text/plain": [
       "dict_values(['raj', 'male', 11, 6.2])"
      ]
     },
     "execution_count": 22,
     "metadata": {},
     "output_type": "execute_result"
    }
   ],
   "source": [
    "student.values()"
   ]
  },
  {
   "cell_type": "code",
   "execution_count": 24,
   "id": "0d50968f",
   "metadata": {},
   "outputs": [
    {
     "data": {
      "text/plain": [
       "dict_items([('name', 'raj'), ('gender', 'male'), ('class', 11), ('height', 6.2)])"
      ]
     },
     "execution_count": 24,
     "metadata": {},
     "output_type": "execute_result"
    }
   ],
   "source": [
    "student.items()"
   ]
  },
  {
   "cell_type": "code",
   "execution_count": null,
   "id": "a475a94f",
   "metadata": {},
   "outputs": [],
   "source": []
  }
 ],
 "metadata": {
  "kernelspec": {
   "display_name": "Python 3 (ipykernel)",
   "language": "python",
   "name": "python3"
  },
  "language_info": {
   "codemirror_mode": {
    "name": "ipython",
    "version": 3
   },
   "file_extension": ".py",
   "mimetype": "text/x-python",
   "name": "python",
   "nbconvert_exporter": "python",
   "pygments_lexer": "ipython3",
   "version": "3.11.5"
  }
 },
 "nbformat": 4,
 "nbformat_minor": 5
}
