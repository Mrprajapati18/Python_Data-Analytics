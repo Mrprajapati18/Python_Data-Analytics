{
 "cells": [
  {
   "cell_type": "markdown",
   "id": "cd4f335f",
   "metadata": {},
   "source": [
    "# slicing"
   ]
  },
  {
   "cell_type": "code",
   "execution_count": 1,
   "id": "43d4027a",
   "metadata": {},
   "outputs": [],
   "source": [
    "primes=[2,3,5,7,11,13,17,19,23,29]"
   ]
  },
  {
   "cell_type": "code",
   "execution_count": 2,
   "id": "bbeae7d8",
   "metadata": {},
   "outputs": [
    {
     "data": {
      "text/plain": [
       "[11, 13, 17, 19]"
      ]
     },
     "execution_count": 2,
     "metadata": {},
     "output_type": "execute_result"
    }
   ],
   "source": [
    "primes[4:8]"
   ]
  },
  {
   "cell_type": "markdown",
   "id": "e9387b84",
   "metadata": {},
   "source": [
    "# Assignment 1"
   ]
  },
  {
   "cell_type": "code",
   "execution_count": 3,
   "id": "5f276023",
   "metadata": {},
   "outputs": [],
   "source": [
    "#primes=[2,3,5,7,11,13,17,19,23,29]\n",
    "#obtain the .primes less then 10,from the lists primes"
   ]
  },
  {
   "cell_type": "code",
   "execution_count": 4,
   "id": "3ffac149",
   "metadata": {},
   "outputs": [],
   "source": [
    "primes=[2,3,5,7,11,13,17,19,23,29]\n"
   ]
  },
  {
   "cell_type": "code",
   "execution_count": 5,
   "id": "87e881f5",
   "metadata": {},
   "outputs": [
    {
     "data": {
      "text/plain": [
       "[2, 3, 5, 7]"
      ]
     },
     "execution_count": 5,
     "metadata": {},
     "output_type": "execute_result"
    }
   ],
   "source": [
    "primes[0:4]"
   ]
  },
  {
   "cell_type": "code",
   "execution_count": 6,
   "id": "d6375fd7",
   "metadata": {},
   "outputs": [],
   "source": [
    "num=[0,1,2,3,4,5,6,7,8,9,10,11,12,13]\n"
   ]
  },
  {
   "cell_type": "code",
   "execution_count": 7,
   "id": "2d8fe407",
   "metadata": {},
   "outputs": [
    {
     "data": {
      "text/plain": [
       "[1, 3, 5, 7, 9]"
      ]
     },
     "execution_count": 7,
     "metadata": {},
     "output_type": "execute_result"
    }
   ],
   "source": [
    "num[1:10:2]"
   ]
  },
  {
   "cell_type": "code",
   "execution_count": 8,
   "id": "40597abd",
   "metadata": {},
   "outputs": [
    {
     "data": {
      "text/plain": [
       "[0, 1, 2, 3, 4, 5, 6, 7, 8, 9]"
      ]
     },
     "execution_count": 8,
     "metadata": {},
     "output_type": "execute_result"
    }
   ],
   "source": [
    "num[:10]"
   ]
  },
  {
   "cell_type": "code",
   "execution_count": 9,
   "id": "b9bb06ae",
   "metadata": {},
   "outputs": [
    {
     "data": {
      "text/plain": [
       "[10, 11, 12, 13]"
      ]
     },
     "execution_count": 9,
     "metadata": {},
     "output_type": "execute_result"
    }
   ],
   "source": [
    "num[10:]"
   ]
  },
  {
   "cell_type": "code",
   "execution_count": 10,
   "id": "1506e28d",
   "metadata": {},
   "outputs": [
    {
     "data": {
      "text/plain": [
       "[0, 2, 4, 6, 8, 10, 12]"
      ]
     },
     "execution_count": 10,
     "metadata": {},
     "output_type": "execute_result"
    }
   ],
   "source": [
    "num[::2] #mutiple of 2"
   ]
  },
  {
   "cell_type": "markdown",
   "id": "27b1f66e",
   "metadata": {},
   "source": [
    "# Assignment 2 "
   ]
  },
  {
   "cell_type": "code",
   "execution_count": 11,
   "id": "125d59ae",
   "metadata": {},
   "outputs": [],
   "source": [
    "# num=[0,1,2,3,4,5,6,7,8,9,10,11,12,13]\n",
    "# obtain the all matiples of 3 from the list"
   ]
  },
  {
   "cell_type": "code",
   "execution_count": 12,
   "id": "b3622f8e",
   "metadata": {},
   "outputs": [],
   "source": [
    "num=[0,1,2,3,4,5,6,7,8,9,10,11,12,13]"
   ]
  },
  {
   "cell_type": "code",
   "execution_count": 13,
   "id": "a18d9074",
   "metadata": {},
   "outputs": [
    {
     "data": {
      "text/plain": [
       "[0, 3, 6, 9, 12]"
      ]
     },
     "execution_count": 13,
     "metadata": {},
     "output_type": "execute_result"
    }
   ],
   "source": [
    "num[::3]"
   ]
  },
  {
   "cell_type": "markdown",
   "id": "c45796a0",
   "metadata": {},
   "source": [
    "# sort of the list"
   ]
  },
  {
   "cell_type": "code",
   "execution_count": 14,
   "id": "58fab71e",
   "metadata": {},
   "outputs": [],
   "source": [
    "a=[1,4,6,2,7,8,9,10,11,7,6]\n"
   ]
  },
  {
   "cell_type": "code",
   "execution_count": 15,
   "id": "52ec85d7",
   "metadata": {},
   "outputs": [],
   "source": [
    "a.sort()"
   ]
  },
  {
   "cell_type": "code",
   "execution_count": 16,
   "id": "2ecefb3f",
   "metadata": {},
   "outputs": [
    {
     "data": {
      "text/plain": [
       "[1, 2, 4, 6, 6, 7, 7, 8, 9, 10, 11]"
      ]
     },
     "execution_count": 16,
     "metadata": {},
     "output_type": "execute_result"
    }
   ],
   "source": [
    "a"
   ]
  },
  {
   "cell_type": "code",
   "execution_count": 17,
   "id": "85f23b2e",
   "metadata": {},
   "outputs": [
    {
     "data": {
      "text/plain": [
       "[1, 2, 4, 6, 6, 7, 7, 8, 9, 10, 11]"
      ]
     },
     "execution_count": 17,
     "metadata": {},
     "output_type": "execute_result"
    }
   ],
   "source": [
    "sorted(a)"
   ]
  },
  {
   "cell_type": "code",
   "execution_count": 18,
   "id": "3eada1e1",
   "metadata": {},
   "outputs": [],
   "source": [
    "a = sorted(a)"
   ]
  },
  {
   "cell_type": "code",
   "execution_count": 19,
   "id": "de3f1377",
   "metadata": {},
   "outputs": [
    {
     "data": {
      "text/plain": [
       "[1, 2, 4, 6, 6, 7, 7, 8, 9, 10, 11]"
      ]
     },
     "execution_count": 19,
     "metadata": {},
     "output_type": "execute_result"
    }
   ],
   "source": [
    "a"
   ]
  },
  {
   "cell_type": "markdown",
   "id": "fb4a6b44",
   "metadata": {},
   "source": [
    "# reverse sorted"
   ]
  },
  {
   "cell_type": "code",
   "execution_count": 20,
   "id": "d4f800f2",
   "metadata": {},
   "outputs": [],
   "source": [
    "r=[1, 2, 4, 6, 6, 7, 7, 8, 9, 10, 11]\n"
   ]
  },
  {
   "cell_type": "code",
   "execution_count": 21,
   "id": "d33d4b81",
   "metadata": {},
   "outputs": [],
   "source": [
    "r.reverse()"
   ]
  },
  {
   "cell_type": "code",
   "execution_count": 22,
   "id": "c31cacf8",
   "metadata": {},
   "outputs": [
    {
     "data": {
      "text/plain": [
       "[11, 10, 9, 8, 7, 7, 6, 6, 4, 2, 1]"
      ]
     },
     "execution_count": 22,
     "metadata": {},
     "output_type": "execute_result"
    }
   ],
   "source": [
    "r"
   ]
  },
  {
   "cell_type": "code",
   "execution_count": 23,
   "id": "cc119a00",
   "metadata": {},
   "outputs": [
    {
     "data": {
      "text/plain": [
       "[1, 2, 4, 6, 6, 7, 7, 8, 9, 10, 11]"
      ]
     },
     "execution_count": 23,
     "metadata": {},
     "output_type": "execute_result"
    }
   ],
   "source": [
    "r[::-1]"
   ]
  },
  {
   "cell_type": "markdown",
   "id": "0422d6e7",
   "metadata": {},
   "source": [
    "# Manipulating string"
   ]
  },
  {
   "cell_type": "code",
   "execution_count": 24,
   "id": "9a97d578",
   "metadata": {},
   "outputs": [],
   "source": [
    "data=\"python\""
   ]
  },
  {
   "cell_type": "code",
   "execution_count": 25,
   "id": "0a3c1968",
   "metadata": {},
   "outputs": [
    {
     "name": "stdout",
     "output_type": "stream",
     "text": [
      "pyt\n"
     ]
    }
   ],
   "source": [
    "print(data[0:3])"
   ]
  },
  {
   "cell_type": "code",
   "execution_count": 26,
   "id": "3ec92827",
   "metadata": {},
   "outputs": [],
   "source": [
    "weak_name=[\"sun\",\"mon\",\"tue\",\"thu\",\"wed\",\"fri\",\"sat\"]"
   ]
  },
  {
   "cell_type": "code",
   "execution_count": 27,
   "id": "e68f2b89",
   "metadata": {},
   "outputs": [],
   "source": [
    "s=\"saturday\""
   ]
  },
  {
   "cell_type": "code",
   "execution_count": 28,
   "id": "6fb7dccb",
   "metadata": {},
   "outputs": [
    {
     "data": {
      "text/plain": [
       "'sat'"
      ]
     },
     "execution_count": 28,
     "metadata": {},
     "output_type": "execute_result"
    }
   ],
   "source": [
    "s[0:3]"
   ]
  },
  {
   "cell_type": "code",
   "execution_count": 29,
   "id": "57850860",
   "metadata": {},
   "outputs": [
    {
     "data": {
      "text/plain": [
       "True"
      ]
     },
     "execution_count": 29,
     "metadata": {},
     "output_type": "execute_result"
    }
   ],
   "source": [
    "s[0:3] in weak_name"
   ]
  },
  {
   "cell_type": "code",
   "execution_count": 30,
   "id": "1d986100",
   "metadata": {},
   "outputs": [
    {
     "data": {
      "text/plain": [
       "'urday'"
      ]
     },
     "execution_count": 30,
     "metadata": {},
     "output_type": "execute_result"
    }
   ],
   "source": [
    "s[3:]"
   ]
  },
  {
   "cell_type": "code",
   "execution_count": 31,
   "id": "b01f8e2f",
   "metadata": {},
   "outputs": [
    {
     "data": {
      "text/plain": [
       "False"
      ]
     },
     "execution_count": 31,
     "metadata": {},
     "output_type": "execute_result"
    }
   ],
   "source": [
    "s[3:] in weak_name"
   ]
  },
  {
   "cell_type": "code",
   "execution_count": 32,
   "id": "5a09afc4",
   "metadata": {},
   "outputs": [
    {
     "data": {
      "text/plain": [
       "'aturda'"
      ]
     },
     "execution_count": 32,
     "metadata": {},
     "output_type": "execute_result"
    }
   ],
   "source": [
    "s[1:-1]"
   ]
  },
  {
   "cell_type": "markdown",
   "id": "52e57139",
   "metadata": {},
   "source": [
    "# palindrome"
   ]
  },
  {
   "cell_type": "code",
   "execution_count": 33,
   "id": "e44b5f93",
   "metadata": {},
   "outputs": [],
   "source": [
    "s1=\"dad\""
   ]
  },
  {
   "cell_type": "code",
   "execution_count": 34,
   "id": "38ccf2c7",
   "metadata": {},
   "outputs": [
    {
     "data": {
      "text/plain": [
       "True"
      ]
     },
     "execution_count": 34,
     "metadata": {},
     "output_type": "execute_result"
    }
   ],
   "source": [
    "s1==s1[::-1]"
   ]
  },
  {
   "cell_type": "code",
   "execution_count": 35,
   "id": "e749363d",
   "metadata": {},
   "outputs": [],
   "source": [
    "s2=\"DAD\""
   ]
  },
  {
   "cell_type": "code",
   "execution_count": 36,
   "id": "d6c8a7c2",
   "metadata": {},
   "outputs": [
    {
     "data": {
      "text/plain": [
       "'DAD'"
      ]
     },
     "execution_count": 36,
     "metadata": {},
     "output_type": "execute_result"
    }
   ],
   "source": [
    "s2.upper()"
   ]
  },
  {
   "cell_type": "code",
   "execution_count": 37,
   "id": "6ceb22b7",
   "metadata": {},
   "outputs": [
    {
     "data": {
      "text/plain": [
       "'dad'"
      ]
     },
     "execution_count": 37,
     "metadata": {},
     "output_type": "execute_result"
    }
   ],
   "source": [
    "s2.lower()"
   ]
  },
  {
   "cell_type": "markdown",
   "id": "6294b222",
   "metadata": {},
   "source": [
    "# replace method"
   ]
  },
  {
   "cell_type": "code",
   "execution_count": 38,
   "id": "de927271",
   "metadata": {},
   "outputs": [],
   "source": [
    "email=\"durgesh[at]gamil[dot]com\""
   ]
  },
  {
   "cell_type": "code",
   "execution_count": 39,
   "id": "4c202478",
   "metadata": {},
   "outputs": [],
   "source": [
    "email = email.replace(\"[at]\",\"@\")"
   ]
  },
  {
   "cell_type": "code",
   "execution_count": 40,
   "id": "bc001c35",
   "metadata": {},
   "outputs": [
    {
     "name": "stdout",
     "output_type": "stream",
     "text": [
      "durgesh@gamil[dot]com\n"
     ]
    }
   ],
   "source": [
    "print(email)"
   ]
  },
  {
   "cell_type": "code",
   "execution_count": 41,
   "id": "b4348f11",
   "metadata": {},
   "outputs": [],
   "source": [
    "email_at=\"durgesh@gamil[dot]com\""
   ]
  },
  {
   "cell_type": "code",
   "execution_count": null,
   "id": "a4c8d0d8",
   "metadata": {},
   "outputs": [],
   "source": []
  },
  {
   "cell_type": "code",
   "execution_count": null,
   "id": "93b94108",
   "metadata": {},
   "outputs": [],
   "source": []
  }
 ],
 "metadata": {
  "kernelspec": {
   "display_name": "Python 3 (ipykernel)",
   "language": "python",
   "name": "python3"
  },
  "language_info": {
   "codemirror_mode": {
    "name": "ipython",
    "version": 3
   },
   "file_extension": ".py",
   "mimetype": "text/x-python",
   "name": "python",
   "nbconvert_exporter": "python",
   "pygments_lexer": "ipython3",
   "version": "3.11.5"
  }
 },
 "nbformat": 4,
 "nbformat_minor": 5
}
