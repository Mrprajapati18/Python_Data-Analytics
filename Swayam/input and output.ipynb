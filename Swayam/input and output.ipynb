{
 "cells": [
  {
   "cell_type": "code",
   "execution_count": 1,
   "id": "6a57a12e",
   "metadata": {},
   "outputs": [],
   "source": [
    "a=\"this is a string\""
   ]
  },
  {
   "cell_type": "code",
   "execution_count": 2,
   "id": "d36d6db6",
   "metadata": {},
   "outputs": [
    {
     "data": {
      "text/plain": [
       "'this is a string'"
      ]
     },
     "execution_count": 2,
     "metadata": {},
     "output_type": "execute_result"
    }
   ],
   "source": [
    "a"
   ]
  },
  {
   "cell_type": "code",
   "execution_count": 3,
   "id": "b4ef0ff9",
   "metadata": {},
   "outputs": [
    {
     "name": "stdout",
     "output_type": "stream",
     "text": [
      "this is a string\n"
     ]
    }
   ],
   "source": [
    "print(a)"
   ]
  },
  {
   "cell_type": "code",
   "execution_count": 4,
   "id": "9977378b",
   "metadata": {},
   "outputs": [],
   "source": [
    "b=\"A line \\n new line\""
   ]
  },
  {
   "cell_type": "code",
   "execution_count": 5,
   "id": "7f34c432",
   "metadata": {},
   "outputs": [
    {
     "data": {
      "text/plain": [
       "'A line \\n new line'"
      ]
     },
     "execution_count": 5,
     "metadata": {},
     "output_type": "execute_result"
    }
   ],
   "source": [
    "b"
   ]
  },
  {
   "cell_type": "code",
   "execution_count": 6,
   "id": "cf13aad2",
   "metadata": {},
   "outputs": [
    {
     "name": "stdout",
     "output_type": "stream",
     "text": [
      "A line \n",
      " new line\n"
     ]
    }
   ],
   "source": [
    "print(b)"
   ]
  },
  {
   "cell_type": "markdown",
   "id": "63fa7255",
   "metadata": {},
   "source": [
    "# Formate operator(symbol %)"
   ]
  },
  {
   "cell_type": "code",
   "execution_count": 7,
   "id": "b08eff3d",
   "metadata": {},
   "outputs": [],
   "source": [
    "x=1.56789"
   ]
  },
  {
   "cell_type": "code",
   "execution_count": 8,
   "id": "35880005",
   "metadata": {},
   "outputs": [
    {
     "name": "stdout",
     "output_type": "stream",
     "text": [
      "the value of x is 1.57\n"
     ]
    }
   ],
   "source": [
    "print('the value of x is %1.2f' %x)"
   ]
  },
  {
   "cell_type": "code",
   "execution_count": 9,
   "id": "a8fcca7b",
   "metadata": {},
   "outputs": [],
   "source": [
    "y=2.445678"
   ]
  },
  {
   "cell_type": "code",
   "execution_count": 10,
   "id": "75cab069",
   "metadata": {},
   "outputs": [
    {
     "name": "stdout",
     "output_type": "stream",
     "text": [
      "the values of y is 2.4457\n"
     ]
    }
   ],
   "source": [
    "print('the values of y is %2.4f' %y)"
   ]
  },
  {
   "cell_type": "code",
   "execution_count": 11,
   "id": "04d46ccc",
   "metadata": {},
   "outputs": [],
   "source": [
    "z=4.79574"
   ]
  },
  {
   "cell_type": "code",
   "execution_count": 12,
   "id": "736e3b02",
   "metadata": {},
   "outputs": [
    {
     "name": "stdout",
     "output_type": "stream",
     "text": [
      "the values of z is 4.796\n"
     ]
    }
   ],
   "source": [
    "print('the values of z is %2.3f' %z)"
   ]
  },
  {
   "cell_type": "code",
   "execution_count": 13,
   "id": "42539c88",
   "metadata": {},
   "outputs": [],
   "source": [
    "h=2"
   ]
  },
  {
   "cell_type": "code",
   "execution_count": 15,
   "id": "81e160ee",
   "metadata": {},
   "outputs": [],
   "source": [
    "g=1.3673939"
   ]
  },
  {
   "cell_type": "code",
   "execution_count": 17,
   "id": "bf5179e5",
   "metadata": {},
   "outputs": [
    {
     "ename": "TypeError",
     "evalue": "not all arguments converted during string formatting",
     "output_type": "error",
     "traceback": [
      "\u001b[1;31m---------------------------------------------------------------------------\u001b[0m",
      "\u001b[1;31mTypeError\u001b[0m                                 Traceback (most recent call last)",
      "Cell \u001b[1;32mIn[17], line 1\u001b[0m\n\u001b[1;32m----> 1\u001b[0m \u001b[38;5;28mprint\u001b[39m(\u001b[38;5;124m'\u001b[39m\u001b[38;5;124mh is \u001b[39m\u001b[38;5;132;01m%d\u001b[39;00m\u001b[38;5;124m'\u001b[39m,\u001b[38;5;124m'\u001b[39m\u001b[38;5;124my is \u001b[39m\u001b[38;5;132;01m%f\u001b[39;00m\u001b[38;5;124m'\u001b[39m \u001b[38;5;241m%\u001b[39m(h,g))\n",
      "\u001b[1;31mTypeError\u001b[0m: not all arguments converted during string formatting"
     ]
    }
   ],
   "source": [
    "print('h is %d','y is %f' %(h,g))"
   ]
  },
  {
   "cell_type": "code",
   "execution_count": 18,
   "id": "5b2a085b",
   "metadata": {},
   "outputs": [
    {
     "name": "stdout",
     "output_type": "stream",
     "text": [
      "an input\n"
     ]
    }
   ],
   "source": [
    "ip = input()"
   ]
  },
  {
   "cell_type": "code",
   "execution_count": 19,
   "id": "d1be7ed2",
   "metadata": {},
   "outputs": [
    {
     "data": {
      "text/plain": [
       "'an input'"
      ]
     },
     "execution_count": 19,
     "metadata": {},
     "output_type": "execute_result"
    }
   ],
   "source": [
    "ip"
   ]
  },
  {
   "cell_type": "code",
   "execution_count": 20,
   "id": "0c73c20d",
   "metadata": {},
   "outputs": [
    {
     "name": "stdout",
     "output_type": "stream",
     "text": [
      "3.45\n"
     ]
    }
   ],
   "source": [
    "c=input()"
   ]
  },
  {
   "cell_type": "code",
   "execution_count": 21,
   "id": "77252c1f",
   "metadata": {},
   "outputs": [
    {
     "data": {
      "text/plain": [
       "'3.45'"
      ]
     },
     "execution_count": 21,
     "metadata": {},
     "output_type": "execute_result"
    }
   ],
   "source": [
    "c"
   ]
  },
  {
   "cell_type": "code",
   "execution_count": 22,
   "id": "6769e834",
   "metadata": {},
   "outputs": [
    {
     "data": {
      "text/plain": [
       "str"
      ]
     },
     "execution_count": 22,
     "metadata": {},
     "output_type": "execute_result"
    }
   ],
   "source": [
    "type(c)"
   ]
  },
  {
   "cell_type": "code",
   "execution_count": 23,
   "id": "ac869b05",
   "metadata": {},
   "outputs": [
    {
     "data": {
      "text/plain": [
       "str"
      ]
     },
     "execution_count": 23,
     "metadata": {},
     "output_type": "execute_result"
    }
   ],
   "source": [
    "type(ip)"
   ]
  },
  {
   "cell_type": "code",
   "execution_count": 25,
   "id": "1f49c732",
   "metadata": {},
   "outputs": [
    {
     "name": "stdout",
     "output_type": "stream",
     "text": [
      "\n"
     ]
    }
   ],
   "source": [
    "r=input()"
   ]
  },
  {
   "cell_type": "code",
   "execution_count": 26,
   "id": "8c082aff",
   "metadata": {},
   "outputs": [
    {
     "data": {
      "text/plain": [
       "''"
      ]
     },
     "execution_count": 26,
     "metadata": {},
     "output_type": "execute_result"
    }
   ],
   "source": [
    "r"
   ]
  },
  {
   "cell_type": "code",
   "execution_count": 27,
   "id": "361ee9c0",
   "metadata": {},
   "outputs": [
    {
     "data": {
      "text/plain": [
       "str"
      ]
     },
     "execution_count": 27,
     "metadata": {},
     "output_type": "execute_result"
    }
   ],
   "source": [
    "type(r)"
   ]
  },
  {
   "cell_type": "code",
   "execution_count": 28,
   "id": "6e430667",
   "metadata": {},
   "outputs": [
    {
     "name": "stdout",
     "output_type": "stream",
     "text": [
      "plese enter a number\n",
      "12\n"
     ]
    }
   ],
   "source": [
    "ip=input(\"plese enter a number\\n\")"
   ]
  },
  {
   "cell_type": "code",
   "execution_count": 31,
   "id": "b27f9eed",
   "metadata": {},
   "outputs": [
    {
     "name": "stdout",
     "output_type": "stream",
     "text": [
      "12\n"
     ]
    }
   ],
   "source": [
    "print(ip)"
   ]
  },
  {
   "cell_type": "code",
   "execution_count": 32,
   "id": "8b1d6f63",
   "metadata": {},
   "outputs": [
    {
     "data": {
      "text/plain": [
       "'12'"
      ]
     },
     "execution_count": 32,
     "metadata": {},
     "output_type": "execute_result"
    }
   ],
   "source": [
    "ip"
   ]
  },
  {
   "cell_type": "code",
   "execution_count": 33,
   "id": "5b78c83a",
   "metadata": {},
   "outputs": [
    {
     "data": {
      "text/plain": [
       "str"
      ]
     },
     "execution_count": 33,
     "metadata": {},
     "output_type": "execute_result"
    }
   ],
   "source": [
    "type(ip)"
   ]
  },
  {
   "cell_type": "code",
   "execution_count": null,
   "id": "e114250f",
   "metadata": {},
   "outputs": [],
   "source": []
  }
 ],
 "metadata": {
  "kernelspec": {
   "display_name": "Python 3 (ipykernel)",
   "language": "python",
   "name": "python3"
  },
  "language_info": {
   "codemirror_mode": {
    "name": "ipython",
    "version": 3
   },
   "file_extension": ".py",
   "mimetype": "text/x-python",
   "name": "python",
   "nbconvert_exporter": "python",
   "pygments_lexer": "ipython3",
   "version": "3.11.5"
  }
 },
 "nbformat": 4,
 "nbformat_minor": 5
}
