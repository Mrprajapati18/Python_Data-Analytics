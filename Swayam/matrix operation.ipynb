{
 "cells": [
  {
   "cell_type": "code",
   "execution_count": 1,
   "id": "2607625f",
   "metadata": {},
   "outputs": [],
   "source": [
    "from numpy import matrix"
   ]
  },
  {
   "cell_type": "code",
   "execution_count": 2,
   "id": "7df1ea16",
   "metadata": {},
   "outputs": [],
   "source": [
    "m1=matrix([1,2,3,4,5])"
   ]
  },
  {
   "cell_type": "code",
   "execution_count": 3,
   "id": "f493af6f",
   "metadata": {},
   "outputs": [
    {
     "name": "stdout",
     "output_type": "stream",
     "text": [
      "[[1 2 3 4 5]]\n"
     ]
    }
   ],
   "source": [
    "print(m1)"
   ]
  },
  {
   "cell_type": "code",
   "execution_count": 4,
   "id": "3050f9cd",
   "metadata": {},
   "outputs": [
    {
     "data": {
      "text/plain": [
       "matrix([[1, 2, 3, 4, 5]])"
      ]
     },
     "execution_count": 4,
     "metadata": {},
     "output_type": "execute_result"
    }
   ],
   "source": [
    "m1"
   ]
  },
  {
   "cell_type": "code",
   "execution_count": 5,
   "id": "742da2d3",
   "metadata": {},
   "outputs": [
    {
     "data": {
      "text/plain": [
       "(1, 5)"
      ]
     },
     "execution_count": 5,
     "metadata": {},
     "output_type": "execute_result"
    }
   ],
   "source": [
    "m1.shape"
   ]
  },
  {
   "cell_type": "code",
   "execution_count": 6,
   "id": "71e2df87",
   "metadata": {},
   "outputs": [],
   "source": [
    "L1=[[1,2,3,4],[5,6,7,8]]\n",
    "m2=matrix(L1)\n"
   ]
  },
  {
   "cell_type": "code",
   "execution_count": 7,
   "id": "be43e446",
   "metadata": {},
   "outputs": [
    {
     "name": "stdout",
     "output_type": "stream",
     "text": [
      "[[1 2 3 4]\n",
      " [5 6 7 8]]\n"
     ]
    }
   ],
   "source": [
    "print(m2)"
   ]
  },
  {
   "cell_type": "markdown",
   "id": "cc812c70",
   "metadata": {},
   "source": [
    "# asmatrix function()"
   ]
  },
  {
   "cell_type": "code",
   "execution_count": 8,
   "id": "7239fff0",
   "metadata": {},
   "outputs": [],
   "source": [
    "from numpy import asmatrix,arange\n",
    "m2_array = asmatrix(arange(1,9).reshape(2,4))"
   ]
  },
  {
   "cell_type": "code",
   "execution_count": 9,
   "id": "3101e008",
   "metadata": {},
   "outputs": [
    {
     "name": "stdout",
     "output_type": "stream",
     "text": [
      "[[1 2 3 4]\n",
      " [5 6 7 8]]\n"
     ]
    }
   ],
   "source": [
    "print (m2_array)"
   ]
  },
  {
   "cell_type": "markdown",
   "id": "d638fc24",
   "metadata": {},
   "source": [
    "# Excerise 1"
   ]
  },
  {
   "cell_type": "code",
   "execution_count": 10,
   "id": "c065aba1",
   "metadata": {},
   "outputs": [],
   "source": [
    "#create a two dimeensional matrix m3 the shape of matrix(2,4) with the element of 5,6,7,8,9,10,11,12\n",
    "#use arange() and reshape() and asmatrix function()"
   ]
  },
  {
   "cell_type": "code",
   "execution_count": 11,
   "id": "694c4438",
   "metadata": {},
   "outputs": [],
   "source": [
    "from numpy import asmatrix,arange\n",
    "m3_array = asmatrix(arange(5,13).reshape(2,4))"
   ]
  },
  {
   "cell_type": "code",
   "execution_count": 12,
   "id": "b5c0102a",
   "metadata": {},
   "outputs": [
    {
     "data": {
      "text/plain": [
       "matrix([[ 5,  6,  7,  8],\n",
       "        [ 9, 10, 11, 12]])"
      ]
     },
     "execution_count": 12,
     "metadata": {},
     "output_type": "execute_result"
    }
   ],
   "source": [
    "m3_array"
   ]
  },
  {
   "cell_type": "markdown",
   "id": "ad6f6e53",
   "metadata": {},
   "source": [
    "# Addition of matrix"
   ]
  },
  {
   "cell_type": "code",
   "execution_count": 13,
   "id": "74d2ff1d",
   "metadata": {},
   "outputs": [
    {
     "data": {
      "text/plain": [
       "matrix([[ 6,  8, 10, 12],\n",
       "        [14, 16, 18, 20]])"
      ]
     },
     "execution_count": 13,
     "metadata": {},
     "output_type": "execute_result"
    }
   ],
   "source": [
    "m2+m3_array"
   ]
  },
  {
   "cell_type": "markdown",
   "id": "eefff49b",
   "metadata": {},
   "source": [
    "# subtraction of matrix"
   ]
  },
  {
   "cell_type": "code",
   "execution_count": 14,
   "id": "836bf3b9",
   "metadata": {},
   "outputs": [
    {
     "data": {
      "text/plain": [
       "matrix([[4, 4, 4, 4],\n",
       "        [4, 4, 4, 4]])"
      ]
     },
     "execution_count": 14,
     "metadata": {},
     "output_type": "execute_result"
    }
   ],
   "source": [
    "m3_array-m2"
   ]
  },
  {
   "cell_type": "markdown",
   "id": "dcda99dd",
   "metadata": {},
   "source": [
    "# matiplication of matrix"
   ]
  },
  {
   "cell_type": "code",
   "execution_count": 15,
   "id": "5afa5e7d",
   "metadata": {},
   "outputs": [
    {
     "data": {
      "text/plain": [
       "matrix([[32.5, 39. , 45.5, 52. ],\n",
       "        [58.5, 65. , 71.5, 78. ]])"
      ]
     },
     "execution_count": 15,
     "metadata": {},
     "output_type": "execute_result"
    }
   ],
   "source": [
    "6.5*m3_array"
   ]
  },
  {
   "cell_type": "code",
   "execution_count": 16,
   "id": "f6719fc4",
   "metadata": {},
   "outputs": [
    {
     "data": {
      "text/plain": [
       "(2, 4)"
      ]
     },
     "execution_count": 16,
     "metadata": {},
     "output_type": "execute_result"
    }
   ],
   "source": [
    "m2.shape"
   ]
  },
  {
   "cell_type": "code",
   "execution_count": 19,
   "id": "35eeb970",
   "metadata": {},
   "outputs": [],
   "source": [
    "m4 = asmatrix(arange(1,9).reshape(4,2))"
   ]
  },
  {
   "cell_type": "code",
   "execution_count": 20,
   "id": "7880a2df",
   "metadata": {},
   "outputs": [
    {
     "data": {
      "text/plain": [
       "matrix([[1, 2],\n",
       "        [3, 4],\n",
       "        [5, 6],\n",
       "        [7, 8]])"
      ]
     },
     "execution_count": 20,
     "metadata": {},
     "output_type": "execute_result"
    }
   ],
   "source": [
    "m4"
   ]
  },
  {
   "cell_type": "code",
   "execution_count": 21,
   "id": "2d26c97e",
   "metadata": {},
   "outputs": [
    {
     "data": {
      "text/plain": [
       "(4, 2)"
      ]
     },
     "execution_count": 21,
     "metadata": {},
     "output_type": "execute_result"
    }
   ],
   "source": [
    "m4.shape"
   ]
  },
  {
   "cell_type": "code",
   "execution_count": 23,
   "id": "c0bae7d7",
   "metadata": {},
   "outputs": [
    {
     "data": {
      "text/plain": [
       "matrix([[114, 140],\n",
       "        [178, 220]])"
      ]
     },
     "execution_count": 23,
     "metadata": {},
     "output_type": "execute_result"
    }
   ],
   "source": [
    "m3_array*m4"
   ]
  },
  {
   "cell_type": "code",
   "execution_count": 24,
   "id": "23fdf66b",
   "metadata": {},
   "outputs": [
    {
     "name": "stdout",
     "output_type": "stream",
     "text": [
      "[[1 3 5 7]\n",
      " [2 4 6 8]]\n"
     ]
    }
   ],
   "source": [
    "print(m4.T) # transport of matrix"
   ]
  },
  {
   "cell_type": "markdown",
   "id": "278c7686",
   "metadata": {},
   "source": [
    "# Determinanat of the matrix"
   ]
  },
  {
   "cell_type": "markdown",
   "id": "48f9d2a4",
   "metadata": {},
   "source": [
    "# Exercise 2"
   ]
  },
  {
   "cell_type": "code",
   "execution_count": 25,
   "id": "4f3e3cdc",
   "metadata": {},
   "outputs": [],
   "source": [
    "#To find out the determinant of 3X3 matrix\n",
    "#[[2,-3,1],[2,0,-1],[1,4,5]]"
   ]
  },
  {
   "cell_type": "code",
   "execution_count": 26,
   "id": "41b4254a",
   "metadata": {},
   "outputs": [],
   "source": [
    "from numpy.linalg import det\n",
    "m5=matrix([[2,-3,1],[2,0,-1],[1,4,5]])"
   ]
  },
  {
   "cell_type": "code",
   "execution_count": 28,
   "id": "090686c6",
   "metadata": {},
   "outputs": [
    {
     "data": {
      "text/plain": [
       "49.000000000000014"
      ]
     },
     "execution_count": 28,
     "metadata": {},
     "output_type": "execute_result"
    }
   ],
   "source": [
    "det(m5)"
   ]
  },
  {
   "cell_type": "markdown",
   "id": "d3289196",
   "metadata": {},
   "source": [
    "# inverse matrix "
   ]
  },
  {
   "cell_type": "code",
   "execution_count": 33,
   "id": "0c4585a3",
   "metadata": {},
   "outputs": [],
   "source": [
    "from numpy.linalg import inv\n"
   ]
  },
  {
   "cell_type": "code",
   "execution_count": 34,
   "id": "5ecd92a9",
   "metadata": {},
   "outputs": [],
   "source": [
    "im5 = inv(m5)"
   ]
  },
  {
   "cell_type": "code",
   "execution_count": 35,
   "id": "8c2ba6da",
   "metadata": {},
   "outputs": [
    {
     "data": {
      "text/plain": [
       "matrix([[ 0.08163265,  0.3877551 ,  0.06122449],\n",
       "        [-0.2244898 ,  0.18367347,  0.08163265],\n",
       "        [ 0.16326531, -0.2244898 ,  0.12244898]])"
      ]
     },
     "execution_count": 35,
     "metadata": {},
     "output_type": "execute_result"
    }
   ],
   "source": [
    "im5"
   ]
  },
  {
   "cell_type": "code",
   "execution_count": null,
   "id": "11dd008a",
   "metadata": {},
   "outputs": [],
   "source": []
  }
 ],
 "metadata": {
  "kernelspec": {
   "display_name": "Python 3 (ipykernel)",
   "language": "python",
   "name": "python3"
  },
  "language_info": {
   "codemirror_mode": {
    "name": "ipython",
    "version": 3
   },
   "file_extension": ".py",
   "mimetype": "text/x-python",
   "name": "python",
   "nbconvert_exporter": "python",
   "pygments_lexer": "ipython3",
   "version": "3.11.5"
  }
 },
 "nbformat": 4,
 "nbformat_minor": 5
}
