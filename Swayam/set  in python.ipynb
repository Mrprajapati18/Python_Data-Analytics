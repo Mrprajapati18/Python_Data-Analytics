{
 "cells": [
  {
   "cell_type": "markdown",
   "id": "6cdfae82",
   "metadata": {},
   "source": [
    "# list convert to set"
   ]
  },
  {
   "cell_type": "code",
   "execution_count": 1,
   "id": "83f55f0d",
   "metadata": {},
   "outputs": [],
   "source": [
    "a_list=[1,2,3,4,5,6,7,8,9]"
   ]
  },
  {
   "cell_type": "code",
   "execution_count": 2,
   "id": "efc25706",
   "metadata": {},
   "outputs": [],
   "source": [
    "a = set(a_list)"
   ]
  },
  {
   "cell_type": "code",
   "execution_count": 3,
   "id": "26a7d25a",
   "metadata": {},
   "outputs": [
    {
     "data": {
      "text/plain": [
       "{1, 2, 3, 4, 5, 6, 7, 8, 9}"
      ]
     },
     "execution_count": 3,
     "metadata": {},
     "output_type": "execute_result"
    }
   ],
   "source": [
    "a"
   ]
  },
  {
   "cell_type": "code",
   "execution_count": 4,
   "id": "aabe833c",
   "metadata": {},
   "outputs": [],
   "source": [
    "b={1,2,1,3,4,5,1,2,6,5} # to give the unique  values"
   ]
  },
  {
   "cell_type": "code",
   "execution_count": 5,
   "id": "6c0659f3",
   "metadata": {},
   "outputs": [
    {
     "data": {
      "text/plain": [
       "{1, 2, 3, 4, 5, 6}"
      ]
     },
     "execution_count": 5,
     "metadata": {},
     "output_type": "execute_result"
    }
   ],
   "source": [
    "b"
   ]
  },
  {
   "cell_type": "markdown",
   "id": "d7dd418e",
   "metadata": {},
   "source": [
    "# add the values of set"
   ]
  },
  {
   "cell_type": "code",
   "execution_count": 6,
   "id": "79257904",
   "metadata": {},
   "outputs": [],
   "source": [
    "c=set([1,2,3,4,5,2,9,7])"
   ]
  },
  {
   "cell_type": "code",
   "execution_count": 7,
   "id": "c97cdf74",
   "metadata": {},
   "outputs": [],
   "source": [
    "f=set([1,2,5,6,8,7,12,13])"
   ]
  },
  {
   "cell_type": "code",
   "execution_count": 8,
   "id": "35c9a521",
   "metadata": {},
   "outputs": [],
   "source": [
    "f.add(13)"
   ]
  },
  {
   "cell_type": "code",
   "execution_count": 9,
   "id": "3b36c273",
   "metadata": {},
   "outputs": [
    {
     "data": {
      "text/plain": [
       "{1, 2, 5, 6, 7, 8, 12, 13}"
      ]
     },
     "execution_count": 9,
     "metadata": {},
     "output_type": "execute_result"
    }
   ],
   "source": [
    "f"
   ]
  },
  {
   "cell_type": "markdown",
   "id": "37d931c2",
   "metadata": {},
   "source": [
    "# remove the values"
   ]
  },
  {
   "cell_type": "code",
   "execution_count": 10,
   "id": "c392aea8",
   "metadata": {},
   "outputs": [],
   "source": [
    "f.remove(13)"
   ]
  },
  {
   "cell_type": "code",
   "execution_count": 11,
   "id": "7004ab92",
   "metadata": {},
   "outputs": [
    {
     "data": {
      "text/plain": [
       "{1, 2, 5, 6, 7, 8, 12}"
      ]
     },
     "execution_count": 11,
     "metadata": {},
     "output_type": "execute_result"
    }
   ],
   "source": [
    "f"
   ]
  },
  {
   "cell_type": "markdown",
   "id": "4cc72986",
   "metadata": {},
   "source": [
    "# union "
   ]
  },
  {
   "cell_type": "code",
   "execution_count": 12,
   "id": "24415bac",
   "metadata": {},
   "outputs": [
    {
     "data": {
      "text/plain": [
       "{1, 2, 3, 4, 5, 6, 7, 8, 9, 12}"
      ]
     },
     "execution_count": 12,
     "metadata": {},
     "output_type": "execute_result"
    }
   ],
   "source": [
    "f.union(c)"
   ]
  },
  {
   "cell_type": "code",
   "execution_count": 13,
   "id": "9b2ae401",
   "metadata": {},
   "outputs": [
    {
     "data": {
      "text/plain": [
       "{1, 2, 3, 4, 5, 6, 7, 8, 9, 12}"
      ]
     },
     "execution_count": 13,
     "metadata": {},
     "output_type": "execute_result"
    }
   ],
   "source": [
    "f|c"
   ]
  },
  {
   "cell_type": "markdown",
   "id": "51440d1b",
   "metadata": {},
   "source": [
    "# intersection"
   ]
  },
  {
   "cell_type": "code",
   "execution_count": 14,
   "id": "2fb37fb3",
   "metadata": {},
   "outputs": [
    {
     "data": {
      "text/plain": [
       "{1, 2, 5, 7}"
      ]
     },
     "execution_count": 14,
     "metadata": {},
     "output_type": "execute_result"
    }
   ],
   "source": [
    "f&c"
   ]
  },
  {
   "cell_type": "code",
   "execution_count": 15,
   "id": "e320076b",
   "metadata": {},
   "outputs": [
    {
     "data": {
      "text/plain": [
       "{1, 2, 5, 7}"
      ]
     },
     "execution_count": 15,
     "metadata": {},
     "output_type": "execute_result"
    }
   ],
   "source": [
    "f.intersection(c)"
   ]
  },
  {
   "cell_type": "code",
   "execution_count": null,
   "id": "eab0c6ff",
   "metadata": {},
   "outputs": [],
   "source": []
  }
 ],
 "metadata": {
  "kernelspec": {
   "display_name": "Python 3 (ipykernel)",
   "language": "python",
   "name": "python3"
  },
  "language_info": {
   "codemirror_mode": {
    "name": "ipython",
    "version": 3
   },
   "file_extension": ".py",
   "mimetype": "text/x-python",
   "name": "python",
   "nbconvert_exporter": "python",
   "pygments_lexer": "ipython3",
   "version": "3.11.5"
  }
 },
 "nbformat": 4,
 "nbformat_minor": 5
}
