{
 "cells": [
  {
   "cell_type": "markdown",
   "id": "01d67138",
   "metadata": {},
   "source": [
    "# To write the program to perform linear search"
   ]
  },
  {
   "cell_type": "code",
   "execution_count": 1,
   "id": "a56ebcf2",
   "metadata": {},
   "outputs": [],
   "source": [
    "import re"
   ]
  },
  {
   "cell_type": "code",
   "execution_count": 16,
   "id": "40ee138e",
   "metadata": {},
   "outputs": [],
   "source": [
    "#Sample input\n",
    "list=[110,220,180,330,460,550,130,100,190,170]\n",
    "x=220"
   ]
  },
  {
   "cell_type": "code",
   "execution_count": 23,
   "id": "b0974367",
   "metadata": {},
   "outputs": [
    {
     "ename": "SyntaxError",
     "evalue": "unterminated string literal (detected at line 2) (3641838789.py, line 2)",
     "output_type": "error",
     "traceback": [
      "\u001b[1;36m  Cell \u001b[1;32mIn[23], line 2\u001b[1;36m\u001b[0m\n\u001b[1;33m    list_str=\",.join(str(i)fo in list)\u001b[0m\n\u001b[1;37m             ^\u001b[0m\n\u001b[1;31mSyntaxError\u001b[0m\u001b[1;31m:\u001b[0m unterminated string literal (detected at line 2)\n"
     ]
    }
   ],
   "source": [
    "#convert the arry to a string\n",
    "list_str=\",.join(str(i)fo in list)"
   ]
  },
  {
   "cell_type": "code",
   "execution_count": null,
   "id": "27768381",
   "metadata": {},
   "outputs": [],
   "source": [
    "# use regular expression to search for the element in the string\n",
    "match =re.search(r'\\b{}\\b'.format(x),list_str)\n",
    "\n"
   ]
  },
  {
   "cell_type": "code",
   "execution_count": 14,
   "id": "60d5a71b",
   "metadata": {},
   "outputs": [
    {
     "ename": "IndentationError",
     "evalue": "unindent does not match any outer indentation level (<tokenize>, line 6)",
     "output_type": "error",
     "traceback": [
      "\u001b[1;36m  File \u001b[1;32m<tokenize>:6\u001b[1;36m\u001b[0m\n\u001b[1;33m    else:\u001b[0m\n\u001b[1;37m    ^\u001b[0m\n\u001b[1;31mIndentationError\u001b[0m\u001b[1;31m:\u001b[0m unindent does not match any outer indentation level\n"
     ]
    }
   ],
   "source": [
    "# output\n",
    "          if match:\n",
    "    #calculate the index by counting the number of commas before the match \n",
    "          result=list_str[:match.start()].count(',')\n",
    "          print(f\"Element{x}is present at index {result}\")\n",
    "    else: \n",
    "          print(f\"Element{x} is not present in the array\")\n",
    "       \n",
    "        "
   ]
  },
  {
   "cell_type": "code",
   "execution_count": null,
   "id": "8860f13a",
   "metadata": {},
   "outputs": [],
   "source": []
  }
 ],
 "metadata": {
  "kernelspec": {
   "display_name": "Python 3 (ipykernel)",
   "language": "python",
   "name": "python3"
  },
  "language_info": {
   "codemirror_mode": {
    "name": "ipython",
    "version": 3
   },
   "file_extension": ".py",
   "mimetype": "text/x-python",
   "name": "python",
   "nbconvert_exporter": "python",
   "pygments_lexer": "ipython3",
   "version": "3.11.4"
  }
 },
 "nbformat": 4,
 "nbformat_minor": 5
}
