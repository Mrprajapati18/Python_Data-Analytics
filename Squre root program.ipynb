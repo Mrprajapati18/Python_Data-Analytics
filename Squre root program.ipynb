{
 "cells": [
  {
   "cell_type": "markdown",
   "id": "24f08b69",
   "metadata": {},
   "source": [
    "# To write a python program to find the squre root of number"
   ]
  },
  {
   "cell_type": "markdown",
   "id": "4fb1fc4b",
   "metadata": {},
   "source": [
    "# Import Libraries"
   ]
  },
  {
   "cell_type": "code",
   "execution_count": 1,
   "id": "6ab17b1c",
   "metadata": {},
   "outputs": [],
   "source": [
    "import math"
   ]
  },
  {
   "cell_type": "code",
   "execution_count": 2,
   "id": "fb7f8bdd",
   "metadata": {},
   "outputs": [],
   "source": [
    "x=16"
   ]
  },
  {
   "cell_type": "code",
   "execution_count": 3,
   "id": "7f397bb0",
   "metadata": {},
   "outputs": [
    {
     "name": "stdout",
     "output_type": "stream",
     "text": [
      "The squre root  of x is: 4.0\n"
     ]
    }
   ],
   "source": [
    "print(\"The squre root  of x is:\",end=\" \")\n",
    "print(math.sqrt(x))"
   ]
  },
  {
   "cell_type": "code",
   "execution_count": 4,
   "id": "c0e578aa",
   "metadata": {},
   "outputs": [],
   "source": [
    "y=40"
   ]
  },
  {
   "cell_type": "code",
   "execution_count": 5,
   "id": "387f5749",
   "metadata": {},
   "outputs": [
    {
     "name": "stdout",
     "output_type": "stream",
     "text": [
      "The squre root  of y is: 6.324555320336759\n"
     ]
    }
   ],
   "source": [
    "print(\"The squre root  of y is:\",end=\" \")\n",
    "print(math.sqrt(y))"
   ]
  },
  {
   "cell_type": "code",
   "execution_count": 6,
   "id": "734c63c1",
   "metadata": {},
   "outputs": [],
   "source": [
    "z=54"
   ]
  },
  {
   "cell_type": "code",
   "execution_count": 9,
   "id": "a27b9aaf",
   "metadata": {},
   "outputs": [
    {
     "name": "stdout",
     "output_type": "stream",
     "text": [
      "The squre root of z is  7.3484692283495345\n"
     ]
    }
   ],
   "source": [
    "print(\"The squre root of z is \",end=\" \")\n",
    "print(math.sqrt(z))"
   ]
  },
  {
   "cell_type": "code",
   "execution_count": 10,
   "id": "a9088ae7",
   "metadata": {},
   "outputs": [],
   "source": [
    "h=65"
   ]
  },
  {
   "cell_type": "code",
   "execution_count": 11,
   "id": "aafcc77e",
   "metadata": {},
   "outputs": [
    {
     "name": "stdout",
     "output_type": "stream",
     "text": [
      "The squre root of h is8.06225774829855\n"
     ]
    }
   ],
   "source": [
    "print(\"The squre root of h is\",end=\"\")\n",
    "print(math.sqrt(h))"
   ]
  },
  {
   "cell_type": "code",
   "execution_count": 12,
   "id": "95e6e8df",
   "metadata": {},
   "outputs": [],
   "source": [
    "j=72"
   ]
  },
  {
   "cell_type": "code",
   "execution_count": 13,
   "id": "80f9a7b0",
   "metadata": {},
   "outputs": [
    {
     "name": "stdout",
     "output_type": "stream",
     "text": [
      "The squre root of j is 8.48528137423857\n"
     ]
    }
   ],
   "source": [
    "print(\"The squre root of j is\",end=\" \")\n",
    "print(math.sqrt(j))"
   ]
  },
  {
   "cell_type": "code",
   "execution_count": 14,
   "id": "67f7ff96",
   "metadata": {},
   "outputs": [],
   "source": [
    "k=89"
   ]
  },
  {
   "cell_type": "code",
   "execution_count": 15,
   "id": "b5bd71a5",
   "metadata": {},
   "outputs": [
    {
     "name": "stdout",
     "output_type": "stream",
     "text": [
      "The squre root of k is9.433981132056603\n"
     ]
    }
   ],
   "source": [
    "print(\"The squre root of k is\",end=\"\")\n",
    "print(math.sqrt(k))"
   ]
  },
  {
   "cell_type": "code",
   "execution_count": null,
   "id": "e3ebc245",
   "metadata": {},
   "outputs": [],
   "source": []
  }
 ],
 "metadata": {
  "kernelspec": {
   "display_name": "Python 3 (ipykernel)",
   "language": "python",
   "name": "python3"
  },
  "language_info": {
   "codemirror_mode": {
    "name": "ipython",
    "version": 3
   },
   "file_extension": ".py",
   "mimetype": "text/x-python",
   "name": "python",
   "nbconvert_exporter": "python",
   "pygments_lexer": "ipython3",
   "version": "3.11.5"
  }
 },
 "nbformat": 4,
 "nbformat_minor": 5
}
