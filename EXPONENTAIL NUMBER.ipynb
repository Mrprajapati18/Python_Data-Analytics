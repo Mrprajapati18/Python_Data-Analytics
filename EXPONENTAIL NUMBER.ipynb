{
 "cells": [
  {
   "cell_type": "markdown",
   "id": "b0c7f3ca",
   "metadata": {},
   "source": [
    "# EXPONENTAIIL NUMBER"
   ]
  },
  {
   "cell_type": "code",
   "execution_count": 1,
   "id": "ea2a4cac",
   "metadata": {},
   "outputs": [],
   "source": [
    "import math"
   ]
  },
  {
   "cell_type": "code",
   "execution_count": 2,
   "id": "24c544b8",
   "metadata": {},
   "outputs": [],
   "source": [
    "x=2\n",
    "a=math.exp(x)"
   ]
  },
  {
   "cell_type": "code",
   "execution_count": 3,
   "id": "e311846b",
   "metadata": {},
   "outputs": [
    {
     "name": "stdout",
     "output_type": "stream",
     "text": [
      "7.38905609893065\n"
     ]
    }
   ],
   "source": [
    "print(a)"
   ]
  },
  {
   "cell_type": "code",
   "execution_count": 4,
   "id": "4cf1dfb5",
   "metadata": {},
   "outputs": [],
   "source": [
    "y=4\n",
    "b=math.exp(y)"
   ]
  },
  {
   "cell_type": "code",
   "execution_count": 5,
   "id": "9ff430ce",
   "metadata": {},
   "outputs": [
    {
     "name": "stdout",
     "output_type": "stream",
     "text": [
      "54.598150033144236\n"
     ]
    }
   ],
   "source": [
    "print(b)"
   ]
  },
  {
   "cell_type": "code",
   "execution_count": null,
   "id": "53b19604",
   "metadata": {},
   "outputs": [],
   "source": []
  }
 ],
 "metadata": {
  "kernelspec": {
   "display_name": "Python 3 (ipykernel)",
   "language": "python",
   "name": "python3"
  },
  "language_info": {
   "codemirror_mode": {
    "name": "ipython",
    "version": 3
   },
   "file_extension": ".py",
   "mimetype": "text/x-python",
   "name": "python",
   "nbconvert_exporter": "python",
   "pygments_lexer": "ipython3",
   "version": "3.11.5"
  }
 },
 "nbformat": 4,
 "nbformat_minor": 5
}
