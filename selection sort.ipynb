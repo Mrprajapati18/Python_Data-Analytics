{
 "cells": [
  {
   "cell_type": "code",
   "execution_count": 1,
   "id": "abbf2203",
   "metadata": {},
   "outputs": [],
   "source": [
    "#sorting by finding min_index def selection sort(array,size): for ind in range (size):min_index=ind for j in range j in range (ind+1,size):\n"
   ]
  },
  {
   "cell_type": "code",
   "execution_count": 2,
   "id": "f1e671c9",
   "metadata": {},
   "outputs": [],
   "source": [
    "#select the minimum element in every iteration if array[j]<array[min_index]: min_index=j"
   ]
  },
  {
   "cell_type": "code",
   "execution_count": 3,
   "id": "b991703e",
   "metadata": {},
   "outputs": [],
   "source": [
    "#swapping the elements to sort the array(array[j]<array[min_index])=(array[min_index],array[ind])"
   ]
  },
  {
   "cell_type": "code",
   "execution_count": 5,
   "id": "dacf99f5",
   "metadata": {},
   "outputs": [
    {
     "ename": "NameError",
     "evalue": "name 'selectionSort' is not defined",
     "output_type": "error",
     "traceback": [
      "\u001b[1;31m---------------------------------------------------------------------------\u001b[0m",
      "\u001b[1;31mNameError\u001b[0m                                 Traceback (most recent call last)",
      "Cell \u001b[1;32mIn[5], line 3\u001b[0m\n\u001b[0;32m      1\u001b[0m \u001b[38;5;28mlist\u001b[39m \u001b[38;5;241m=\u001b[39m [\u001b[38;5;241m-\u001b[39m\u001b[38;5;241m9\u001b[39m,\u001b[38;5;241m25\u001b[39m,\u001b[38;5;241m0\u001b[39m,\u001b[38;5;241m21\u001b[39m,\u001b[38;5;241m-\u001b[39m\u001b[38;5;241m19\u001b[39m,\u001b[38;5;241m38\u001b[39m,\u001b[38;5;241m-\u001b[39m\u001b[38;5;241m77\u001b[39m,\u001b[38;5;241m-\u001b[39m\u001b[38;5;241m302\u001b[39m,\u001b[38;5;241m787\u001b[39m]\n\u001b[0;32m      2\u001b[0m size\u001b[38;5;241m=\u001b[39m\u001b[38;5;28mlen\u001b[39m(\u001b[38;5;28mlist\u001b[39m)\n\u001b[1;32m----> 3\u001b[0m selectionSort(\u001b[38;5;28mlist\u001b[39m,size)\n\u001b[0;32m      4\u001b[0m \u001b[38;5;28mprint\u001b[39m(\u001b[38;5;124m'\u001b[39m\u001b[38;5;124mThe array after sorting in Ascending Order by slecton sort is:\u001b[39m\u001b[38;5;124m'\u001b[39m)\n\u001b[0;32m      5\u001b[0m \u001b[38;5;28mprint\u001b[39m(\u001b[38;5;28mlist\u001b[39m)\n",
      "\u001b[1;31mNameError\u001b[0m: name 'selectionSort' is not defined"
     ]
    }
   ],
   "source": [
    "list = [-9,25,0,21,-19,38,-77,-302,787]\n",
    "size=len(list)\n",
    "selectionSort(list,size)\n",
    "print('The array after sorting in Ascending Order by slecton sort is:')\n",
    "print(list)"
   ]
  },
  {
   "cell_type": "code",
   "execution_count": null,
   "id": "4b7ff728",
   "metadata": {},
   "outputs": [],
   "source": []
  }
 ],
 "metadata": {
  "kernelspec": {
   "display_name": "Python 3 (ipykernel)",
   "language": "python",
   "name": "python3"
  },
  "language_info": {
   "codemirror_mode": {
    "name": "ipython",
    "version": 3
   },
   "file_extension": ".py",
   "mimetype": "text/x-python",
   "name": "python",
   "nbconvert_exporter": "python",
   "pygments_lexer": "ipython3",
   "version": "3.11.4"
  }
 },
 "nbformat": 4,
 "nbformat_minor": 5
}
