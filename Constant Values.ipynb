{
 "cells": [
  {
   "cell_type": "markdown",
   "id": "09d497b3",
   "metadata": {},
   "source": [
    "# constant values\n"
   ]
  },
  {
   "cell_type": "code",
   "execution_count": 1,
   "id": "30cc22f6",
   "metadata": {},
   "outputs": [],
   "source": [
    "import math"
   ]
  },
  {
   "cell_type": "markdown",
   "id": "7044c9ea",
   "metadata": {},
   "source": [
    "# Euler's Number"
   ]
  },
  {
   "cell_type": "code",
   "execution_count": 3,
   "id": "1cf7db6b",
   "metadata": {},
   "outputs": [
    {
     "data": {
      "text/plain": [
       "2.718281828459045"
      ]
     },
     "execution_count": 3,
     "metadata": {},
     "output_type": "execute_result"
    }
   ],
   "source": [
    "math.e"
   ]
  },
  {
   "cell_type": "markdown",
   "id": "80f2b6fa",
   "metadata": {},
   "source": [
    "# pie"
   ]
  },
  {
   "cell_type": "code",
   "execution_count": 4,
   "id": "a770eb36",
   "metadata": {},
   "outputs": [
    {
     "data": {
      "text/plain": [
       "3.141592653589793"
      ]
     },
     "execution_count": 4,
     "metadata": {},
     "output_type": "execute_result"
    }
   ],
   "source": [
    "math.pi"
   ]
  },
  {
   "cell_type": "markdown",
   "id": "42c4e77b",
   "metadata": {},
   "source": [
    "# Tau"
   ]
  },
  {
   "cell_type": "code",
   "execution_count": 5,
   "id": "a454ffb9",
   "metadata": {},
   "outputs": [
    {
     "data": {
      "text/plain": [
       "6.283185307179586"
      ]
     },
     "execution_count": 5,
     "metadata": {},
     "output_type": "execute_result"
    }
   ],
   "source": [
    "math.tau"
   ]
  },
  {
   "cell_type": "markdown",
   "id": "e3cd519b",
   "metadata": {},
   "source": [
    "# Infinity"
   ]
  },
  {
   "cell_type": "code",
   "execution_count": 9,
   "id": "c5df1d35",
   "metadata": {},
   "outputs": [
    {
     "data": {
      "text/plain": [
       "inf"
      ]
     },
     "execution_count": 9,
     "metadata": {},
     "output_type": "execute_result"
    }
   ],
   "source": [
    "math.inf"
   ]
  },
  {
   "cell_type": "code",
   "execution_count": 10,
   "id": "8b73fd5d",
   "metadata": {},
   "outputs": [
    {
     "data": {
      "text/plain": [
       "-inf"
      ]
     },
     "execution_count": 10,
     "metadata": {},
     "output_type": "execute_result"
    }
   ],
   "source": [
    "-math.inf"
   ]
  },
  {
   "cell_type": "code",
   "execution_count": 11,
   "id": "08a4d063",
   "metadata": {},
   "outputs": [
    {
     "data": {
      "text/plain": [
       "True"
      ]
     },
     "execution_count": 11,
     "metadata": {},
     "output_type": "execute_result"
    }
   ],
   "source": [
    "(math.inf>10e108)"
   ]
  },
  {
   "cell_type": "code",
   "execution_count": 12,
   "id": "54e3651c",
   "metadata": {},
   "outputs": [
    {
     "data": {
      "text/plain": [
       "False"
      ]
     },
     "execution_count": 12,
     "metadata": {},
     "output_type": "execute_result"
    }
   ],
   "source": [
    "(-math.inf>10e108)"
   ]
  },
  {
   "cell_type": "markdown",
   "id": "fd937d8a",
   "metadata": {},
   "source": [
    "# Nan"
   ]
  },
  {
   "cell_type": "code",
   "execution_count": 13,
   "id": "74133627",
   "metadata": {},
   "outputs": [
    {
     "data": {
      "text/plain": [
       "nan"
      ]
     },
     "execution_count": 13,
     "metadata": {},
     "output_type": "execute_result"
    }
   ],
   "source": [
    "math.nan"
   ]
  },
  {
   "cell_type": "code",
   "execution_count": null,
   "id": "a6b9de9c",
   "metadata": {},
   "outputs": [],
   "source": []
  }
 ],
 "metadata": {
  "kernelspec": {
   "display_name": "Python 3 (ipykernel)",
   "language": "python",
   "name": "python3"
  },
  "language_info": {
   "codemirror_mode": {
    "name": "ipython",
    "version": 3
   },
   "file_extension": ".py",
   "mimetype": "text/x-python",
   "name": "python",
   "nbconvert_exporter": "python",
   "pygments_lexer": "ipython3",
   "version": "3.11.5"
  }
 },
 "nbformat": 4,
 "nbformat_minor": 5
}
