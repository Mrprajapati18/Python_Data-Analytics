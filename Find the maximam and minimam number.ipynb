{
 "cells": [
  {
   "cell_type": "markdown",
   "id": "fa5c68ce",
   "metadata": {},
   "source": [
    "# To write a python program to find the maximum from a list of number"
   ]
  },
  {
   "cell_type": "markdown",
   "id": "8b93e2dd",
   "metadata": {},
   "source": [
    "# Method 1"
   ]
  },
  {
   "cell_type": "code",
   "execution_count": 1,
   "id": "7e3e76ba",
   "metadata": {},
   "outputs": [],
   "source": [
    "import math"
   ]
  },
  {
   "cell_type": "code",
   "execution_count": 2,
   "id": "0233a754",
   "metadata": {},
   "outputs": [
    {
     "name": "stdout",
     "output_type": "stream",
     "text": [
      "largest number is : 62\n"
     ]
    }
   ],
   "source": [
    "list=[50,54,52,62,60]\n",
    "print(\"largest number is :\",max(list))"
   ]
  },
  {
   "cell_type": "markdown",
   "id": "0d2731ae",
   "metadata": {},
   "source": [
    "# Method 2"
   ]
  },
  {
   "cell_type": "code",
   "execution_count": 4,
   "id": "29a77de1",
   "metadata": {},
   "outputs": [
    {
     "name": "stdout",
     "output_type": "stream",
     "text": [
      "62\n"
     ]
    }
   ],
   "source": [
    "list=[50,54,52,62,60]\n",
    "y=max(list)\n",
    "print (y)"
   ]
  },
  {
   "cell_type": "markdown",
   "id": "12750383",
   "metadata": {},
   "source": [
    "# Method 3"
   ]
  },
  {
   "cell_type": "markdown",
   "id": "86267871",
   "metadata": {},
   "source": [
    "# To find the second largest number"
   ]
  },
  {
   "cell_type": "code",
   "execution_count": 9,
   "id": "0401e0ef",
   "metadata": {},
   "outputs": [
    {
     "name": "stdout",
     "output_type": "stream",
     "text": [
      "60\n"
     ]
    }
   ],
   "source": [
    "list=[50,54,52,62,60]\n",
    "p=list[-1]\n",
    "print(p)"
   ]
  },
  {
   "cell_type": "markdown",
   "id": "3fdb6b4a",
   "metadata": {},
   "source": [
    "# Third maximam number"
   ]
  },
  {
   "cell_type": "code",
   "execution_count": 10,
   "id": "e4a33b81",
   "metadata": {},
   "outputs": [
    {
     "name": "stdout",
     "output_type": "stream",
     "text": [
      "54\n"
     ]
    }
   ],
   "source": [
    "list=[50,54,52,62,60]\n",
    "p=list[--1]\n",
    "print(p)"
   ]
  },
  {
   "cell_type": "markdown",
   "id": "fe1db374",
   "metadata": {},
   "source": [
    "# Method 4"
   ]
  },
  {
   "cell_type": "markdown",
   "id": "7188643c",
   "metadata": {},
   "source": [
    "# Second minimam number"
   ]
  },
  {
   "cell_type": "code",
   "execution_count": 12,
   "id": "2069c9f0",
   "metadata": {},
   "outputs": [
    {
     "name": "stdout",
     "output_type": "stream",
     "text": [
      "54\n"
     ]
    }
   ],
   "source": [
    "list=[50,54,52,62,60]\n",
    "p=list[+1]\n",
    "print(p)"
   ]
  },
  {
   "cell_type": "markdown",
   "id": "54029667",
   "metadata": {},
   "source": [
    "# Third minimam number"
   ]
  },
  {
   "cell_type": "code",
   "execution_count": 15,
   "id": "38232ab1",
   "metadata": {},
   "outputs": [
    {
     "name": "stdout",
     "output_type": "stream",
     "text": [
      "55\n"
     ]
    }
   ],
   "source": [
    "list=[50,55,52,62,60]\n",
    "y=list[++1]\n",
    "print(y)"
   ]
  },
  {
   "cell_type": "code",
   "execution_count": null,
   "id": "db032218",
   "metadata": {},
   "outputs": [],
   "source": []
  }
 ],
 "metadata": {
  "kernelspec": {
   "display_name": "Python 3 (ipykernel)",
   "language": "python",
   "name": "python3"
  },
  "language_info": {
   "codemirror_mode": {
    "name": "ipython",
    "version": 3
   },
   "file_extension": ".py",
   "mimetype": "text/x-python",
   "name": "python",
   "nbconvert_exporter": "python",
   "pygments_lexer": "ipython3",
   "version": "3.11.5"
  }
 },
 "nbformat": 4,
 "nbformat_minor": 5
}
